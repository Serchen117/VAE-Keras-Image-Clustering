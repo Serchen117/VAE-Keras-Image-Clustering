{
  "cells": [
    {
      "cell_type": "code",
      "execution_count": null,
      "metadata": {
        "colab": {
          "base_uri": "https://localhost:8080/"
        },
        "id": "P18GBhN3g9R4",
        "outputId": "85db74ff-163f-4a10-e837-e2a77d4f5484"
      },
      "outputs": [
        {
          "output_type": "stream",
          "name": "stdout",
          "text": [
            "Requirement already satisfied: emnist in /usr/local/lib/python3.10/dist-packages (0.0)\n",
            "Requirement already satisfied: numpy in /usr/local/lib/python3.10/dist-packages (from emnist) (1.22.4)\n",
            "Requirement already satisfied: requests in /usr/local/lib/python3.10/dist-packages (from emnist) (2.27.1)\n",
            "Requirement already satisfied: tqdm in /usr/local/lib/python3.10/dist-packages (from emnist) (4.65.0)\n",
            "Requirement already satisfied: urllib3<1.27,>=1.21.1 in /usr/local/lib/python3.10/dist-packages (from requests->emnist) (1.26.16)\n",
            "Requirement already satisfied: certifi>=2017.4.17 in /usr/local/lib/python3.10/dist-packages (from requests->emnist) (2023.7.22)\n",
            "Requirement already satisfied: charset-normalizer~=2.0.0 in /usr/local/lib/python3.10/dist-packages (from requests->emnist) (2.0.12)\n",
            "Requirement already satisfied: idna<4,>=2.5 in /usr/local/lib/python3.10/dist-packages (from requests->emnist) (3.4)\n"
          ]
        }
      ],
      "source": [
        "!pip install emnist"
      ]
    },
    {
      "cell_type": "code",
      "execution_count": null,
      "metadata": {
        "id": "TFLsRvblCZjK"
      },
      "outputs": [],
      "source": [
        "import numpy as np\n",
        "from keras.layers import *\n",
        "from keras.models import Model, load_model\n",
        "from keras import backend as K\n",
        "from keras import losses\n",
        "from keras.optimizers import SGD,Adam\n",
        "import imageio,os\n",
        "from PIL import Image\n",
        "from keras.callbacks import EarlyStopping, ReduceLROnPlateau, ModelCheckpoint\n",
        "from emnist import extract_training_samples, extract_test_samples\n",
        "from keras.regularizers import l1, l2"
      ]
    },
    {
      "cell_type": "code",
      "execution_count": null,
      "metadata": {
        "colab": {
          "base_uri": "https://localhost:8080/"
        },
        "id": "c2nkpbbsNus-",
        "outputId": "ad58d5aa-1427-4a25-f79c-8c64e469e55b"
      },
      "outputs": [
        {
          "output_type": "stream",
          "name": "stdout",
          "text": [
            "Num GPUs Available:  1\n"
          ]
        }
      ],
      "source": [
        "import tensorflow as tf\n",
        "print(\"Num GPUs Available: \", len(tf.config.list_physical_devices('GPU')))"
      ]
    },
    {
      "cell_type": "code",
      "execution_count": null,
      "metadata": {
        "id": "QcPIbdEzCh-j"
      },
      "outputs": [],
      "source": [
        "batch_size = 100\n",
        "latent_dim = 20\n",
        "epochs = 100\n",
        "img_dim = 28\n",
        "filters = 16\n",
        "intermediate_dim = 256\n",
        "learning_rate = 0.005\n",
        "#momentum = 0.5\n",
        "#dataset = 'balanced'\n",
        "#dataset = 'letters'\n",
        "#dataset = 'mnist'\n",
        "dataset = 'fashion'"
      ]
    },
    {
      "cell_type": "code",
      "execution_count": null,
      "metadata": {
        "id": "elGRbd7HJ5WZ"
      },
      "outputs": [],
      "source": [
        "if dataset == 'balanced':\n",
        "  num_classes = 47\n",
        "  x_train, y_train = extract_training_samples(dataset)\n",
        "  x_test, y_test = extract_test_samples(dataset)\n",
        "elif dataset == 'letters':\n",
        "  num_classes = 26\n",
        "  x_train, y_train = extract_training_samples(dataset)\n",
        "  x_test, y_test = extract_test_samples(dataset)\n",
        "elif dataset == 'mnist':\n",
        "  num_classes = 10\n",
        "  from keras.datasets import mnist\n",
        "  (x_train, y_train), (x_test, y_test) = mnist.load_data()\n",
        "elif dataset == 'fashion':\n",
        "  num_classes = 10\n",
        "  from keras.datasets import fashion_mnist as mnist\n",
        "  (x_train, y_train), (x_test, y_test) = mnist.load_data()"
      ]
    },
    {
      "cell_type": "code",
      "execution_count": null,
      "metadata": {
        "id": "ZfdCctD1CnLC"
      },
      "outputs": [],
      "source": [
        "x_train = x_train.astype('float32') / 255.\n",
        "x_test = x_test.astype('float32') / 255.\n",
        "x_train = x_train.reshape((-1, img_dim, img_dim, 1))\n",
        "x_test = x_test.reshape((-1, img_dim, img_dim, 1))"
      ]
    },
    {
      "cell_type": "code",
      "execution_count": null,
      "metadata": {
        "id": "xHUK8omNCwyf"
      },
      "outputs": [],
      "source": [
        "# 搭建模型\n",
        "x = Input(shape=(img_dim, img_dim, 1))\n",
        "h = x\n",
        "h = Flatten()(h)\n",
        "\n",
        "# Add dense layers\n",
        "for i in range(4):  # Increase the number of layers\n",
        "    h = Dense(2 * intermediate_dim)(h)\n",
        "    h = LeakyReLU(0.2)(h)\n",
        "    h = BatchNormalization()(h)  # Add batch normalization\n",
        "\n",
        "h_shape = K.int_shape(h)[1:]\n",
        "z_mean = Dense(latent_dim)(h) # p(z|x)的均值\n",
        "z_log_var = Dense(latent_dim)(h) # p(z|x)的方差\n",
        "\n",
        "encoder = Model(x, z_mean) # 通常认为z_mean就是所需的隐变量编码\n",
        "\n",
        "z = Input(shape=(latent_dim,))\n",
        "h = z\n",
        "\n",
        "# 搭建模型\n",
        "# x = Input(shape=(img_dim, img_dim, 1))\n",
        "# h = x\n",
        "\n",
        "# h = Conv2D(filters=filters, kernel_size=3, strides=2, padding='same')(h)\n",
        "# h = LeakyReLU(0.2)(h)\n",
        "# h = Conv2D(filters=filters, kernel_size=3, strides=1, padding='same')(h)\n",
        "# h = LeakyReLU(0.2)(h)\n",
        "# h = Conv2D(filters=filters*2, kernel_size=3, strides=2, padding='same')(h)\n",
        "# h = LeakyReLU(0.2)(h)\n",
        "# h = Conv2D(filters=filters*2, kernel_size=3, strides=1, padding='same')(h)\n",
        "# h = LeakyReLU(0.2)(h)\n",
        "\n",
        "# h_shape = K.int_shape(h)[1:]\n",
        "# h = Flatten()(h)\n",
        "# z_mean = Dense(latent_dim)(h) # p(z|x)的均值\n",
        "# z_log_var = Dense(latent_dim)(h) # p(z|x)的方差\n",
        "\n",
        "# encoder = Model(x, z_mean) # 通常认为z_mean就是所需的隐变量编码"
      ]
    },
    {
      "cell_type": "code",
      "execution_count": null,
      "metadata": {
        "id": "IKbp0XliCzGf"
      },
      "outputs": [],
      "source": [
        "# Add dense layers\n",
        "for i in range(4):  # Increase the number of layers\n",
        "    h = Dense(2 * intermediate_dim)(h)\n",
        "    h = LeakyReLU(0.2)(h)\n",
        "    h = BatchNormalization()(h)  # Add batch normalization\n",
        "\n",
        "h = Dense(img_dim * img_dim, activation='sigmoid')(h)\n",
        "x_recon = Reshape((img_dim, img_dim, 1))(h)\n",
        "\n",
        "decoder = Model(z, x_recon) # 解码器\n",
        "generator = decoder\n",
        "# z = Input(shape=(latent_dim,))\n",
        "# h = z\n",
        "# h = Dense(np.prod(h_shape))(h)\n",
        "# h = Reshape(h_shape)(h)\n",
        "\n",
        "# # Mirroring VGG-5 based encoder structure\n",
        "# h = Conv2DTranspose(filters=filters*2, kernel_size=3, strides=1, padding='same')(h)\n",
        "# h = LeakyReLU(0.2)(h)\n",
        "# h = Conv2DTranspose(filters=filters*2, kernel_size=3, strides=2, padding='same')(h)\n",
        "# h = LeakyReLU(0.2)(h)\n",
        "# h = Conv2DTranspose(filters=filters, kernel_size=3, strides=1, padding='same')(h)\n",
        "# h = LeakyReLU(0.2)(h)\n",
        "# h = Conv2DTranspose(filters=filters, kernel_size=3, strides=2, padding='same')(h)\n",
        "# h = LeakyReLU(0.2)(h)\n",
        "\n",
        "# x_recon = Conv2DTranspose(filters=1,\n",
        "#               kernel_size=3,\n",
        "#               activation='sigmoid',\n",
        "#               padding='same')(h)\n",
        "\n",
        "\n",
        "# decoder = Model(z, x_recon) # 解码器\n",
        "# generator = decoder"
      ]
    },
    {
      "cell_type": "code",
      "execution_count": null,
      "metadata": {
        "id": "B_lVYQoYC2-8"
      },
      "outputs": [],
      "source": [
        "z = Input(shape=(latent_dim,))\n",
        "y = Dense(intermediate_dim, activation='relu')(z)\n",
        "y = Dense(num_classes, activation='softmax')(y)\n",
        "\n",
        "classfier = Model(z, y) # 隐变量分类器"
      ]
    },
    {
      "cell_type": "code",
      "execution_count": null,
      "metadata": {
        "id": "PKWtq3gkDEZ9"
      },
      "outputs": [],
      "source": [
        "# 重参数技巧\n",
        "def sampling(args):\n",
        "    z_mean, z_log_var = args\n",
        "    epsilon = K.random_normal(shape=(K.shape(z_mean)[0], latent_dim))\n",
        "    return z_mean + K.exp(z_log_var / 2) * epsilon\n",
        "\n",
        "# 重参数层，相当于给输入加入噪声\n",
        "z = Lambda(sampling, output_shape=(latent_dim,))([z_mean, z_log_var])\n",
        "x_recon = decoder(z)\n",
        "y = classfier(z)"
      ]
    },
    {
      "cell_type": "code",
      "execution_count": null,
      "metadata": {
        "id": "GhhoOnvEDKRf"
      },
      "outputs": [],
      "source": [
        "class Gaussian(Layer):\n",
        "    \"\"\"这是个简单的层，定义q(z|y)中的均值参数，每个类别配一个均值。\n",
        "    然后输出“z - 均值”，为后面计算loss准备。\n",
        "    \"\"\"\n",
        "    def __init__(self, num_classes, **kwargs):\n",
        "        self.num_classes = num_classes\n",
        "        super(Gaussian, self).__init__(**kwargs)\n",
        "    def build(self, input_shape):\n",
        "        latent_dim = input_shape[-1]\n",
        "        self.mean = self.add_weight(name='mean',\n",
        "                       shape=(self.num_classes, latent_dim),\n",
        "                       initializer='zeros')\n",
        "    def call(self, inputs):\n",
        "        z = inputs # z.shape=(batch_size, latent_dim)\n",
        "        z = K.expand_dims(z, 1)\n",
        "        return z - K.expand_dims(self.mean, 0)\n",
        "    def compute_output_shape(self, input_shape):\n",
        "        return (None, self.num_classes, input_shape[-1])\n",
        "\n",
        "gaussian = Gaussian(num_classes)\n",
        "z_prior_mean = gaussian(z)"
      ]
    },
    {
      "cell_type": "code",
      "execution_count": null,
      "metadata": {
        "id": "4ADtK8HjDZCf"
      },
      "outputs": [],
      "source": [
        "# 建立模型\n",
        "vae = Model(x, [x_recon, z_prior_mean, y])"
      ]
    },
    {
      "cell_type": "code",
      "execution_count": null,
      "metadata": {
        "colab": {
          "base_uri": "https://localhost:8080/"
        },
        "id": "LAzxOHOxDaNp",
        "outputId": "31dfbd38-56b5-4f5e-ae84-a14e866370e0"
      },
      "outputs": [
        {
          "output_type": "stream",
          "name": "stdout",
          "text": [
            "Model: \"model_22\"\n",
            "__________________________________________________________________________________________________\n",
            " Layer (type)                   Output Shape         Param #     Connected to                     \n",
            "==================================================================================================\n",
            " input_19 (InputLayer)          [(None, 28, 28, 1)]  0           []                               \n",
            "                                                                                                  \n",
            " flatten_7 (Flatten)            (None, 784)          0           ['input_19[0][0]']               \n",
            "                                                                                                  \n",
            " dense_46 (Dense)               (None, 512)          401920      ['flatten_7[0][0]']              \n",
            "                                                                                                  \n",
            " leaky_re_lu_44 (LeakyReLU)     (None, 512)          0           ['dense_46[0][0]']               \n",
            "                                                                                                  \n",
            " batch_normalization_20 (BatchN  (None, 512)         2048        ['leaky_re_lu_44[0][0]']         \n",
            " ormalization)                                                                                    \n",
            "                                                                                                  \n",
            " dense_47 (Dense)               (None, 512)          262656      ['batch_normalization_20[0][0]'] \n",
            "                                                                                                  \n",
            " leaky_re_lu_45 (LeakyReLU)     (None, 512)          0           ['dense_47[0][0]']               \n",
            "                                                                                                  \n",
            " batch_normalization_21 (BatchN  (None, 512)         2048        ['leaky_re_lu_45[0][0]']         \n",
            " ormalization)                                                                                    \n",
            "                                                                                                  \n",
            " dense_48 (Dense)               (None, 512)          262656      ['batch_normalization_21[0][0]'] \n",
            "                                                                                                  \n",
            " leaky_re_lu_46 (LeakyReLU)     (None, 512)          0           ['dense_48[0][0]']               \n",
            "                                                                                                  \n",
            " batch_normalization_22 (BatchN  (None, 512)         2048        ['leaky_re_lu_46[0][0]']         \n",
            " ormalization)                                                                                    \n",
            "                                                                                                  \n",
            " dense_49 (Dense)               (None, 512)          262656      ['batch_normalization_22[0][0]'] \n",
            "                                                                                                  \n",
            " leaky_re_lu_47 (LeakyReLU)     (None, 512)          0           ['dense_49[0][0]']               \n",
            "                                                                                                  \n",
            " batch_normalization_23 (BatchN  (None, 512)         2048        ['leaky_re_lu_47[0][0]']         \n",
            " ormalization)                                                                                    \n",
            "                                                                                                  \n",
            " dense_50 (Dense)               (None, 20)           10260       ['batch_normalization_23[0][0]'] \n",
            "                                                                                                  \n",
            " dense_51 (Dense)               (None, 20)           10260       ['batch_normalization_23[0][0]'] \n",
            "                                                                                                  \n",
            " lambda_4 (Lambda)              (None, 20)           0           ['dense_50[0][0]',               \n",
            "                                                                  'dense_51[0][0]']               \n",
            "                                                                                                  \n",
            " model_20 (Functional)          (None, 28, 28, 1)    1209104     ['lambda_4[0][0]']               \n",
            "                                                                                                  \n",
            " gaussian_4 (Gaussian)          (None, 10, 20)       200         ['lambda_4[0][0]']               \n",
            "                                                                                                  \n",
            " model_21 (Functional)          (None, 10)           7946        ['lambda_4[0][0]']               \n",
            "                                                                                                  \n",
            " tf.math.subtract_8 (TFOpLambda  (None, 28, 28, 1)   0           ['input_19[0][0]',               \n",
            " )                                                                'model_20[0][0]']               \n",
            "                                                                                                  \n",
            " tf.expand_dims_13 (TFOpLambda)  (None, 1, 20)       0           ['dense_51[0][0]']               \n",
            "                                                                                                  \n",
            " tf.math.square_4 (TFOpLambda)  (None, 10, 20)       0           ['gaussian_4[0][0]']             \n",
            "                                                                                                  \n",
            " tf.math.pow_4 (TFOpLambda)     (None, 28, 28, 1)    0           ['tf.math.subtract_8[0][0]']     \n",
            "                                                                                                  \n",
            " tf.math.subtract_9 (TFOpLambda  (None, 10, 20)      0           ['tf.expand_dims_13[0][0]',      \n",
            " )                                                                'tf.math.square_4[0][0]']       \n",
            "                                                                                                  \n",
            " tf.math.reduce_mean_12 (TFOpLa  (28, 28, 1)         0           ['tf.math.pow_4[0][0]']          \n",
            " mbda)                                                                                            \n",
            "                                                                                                  \n",
            " tf.expand_dims_14 (TFOpLambda)  (None, 1, 10)       0           ['model_21[0][0]']               \n",
            "                                                                                                  \n",
            " tf.math.multiply_17 (TFOpLambd  (None, 10, 20)      0           ['tf.math.subtract_9[0][0]']     \n",
            " a)                                                                                               \n",
            "                                                                                                  \n",
            " tf.__operators__.add_12 (TFOpL  (None, 10)          0           ['model_21[0][0]']               \n",
            " ambda)                                                                                           \n",
            "                                                                                                  \n",
            " tf.math.multiply_16 (TFOpLambd  (28, 28, 1)         0           ['tf.math.reduce_mean_12[0][0]'] \n",
            " a)                                                                                               \n",
            "                                                                                                  \n",
            " tf.linalg.matmul_4 (TFOpLambda  (None, 1, 20)       0           ['tf.expand_dims_14[0][0]',      \n",
            " )                                                                'tf.math.multiply_17[0][0]']    \n",
            "                                                                                                  \n",
            " tf.math.log_4 (TFOpLambda)     (None, 10)           0           ['tf.__operators__.add_12[0][0]']\n",
            "                                                                                                  \n",
            " tf.math.reduce_sum_12 (TFOpLam  ()                  0           ['tf.math.multiply_16[0][0]']    \n",
            " bda)                                                                                             \n",
            "                                                                                                  \n",
            " tf.math.reduce_mean_13 (TFOpLa  (1, 20)             0           ['tf.linalg.matmul_4[0][0]']     \n",
            " mbda)                                                                                            \n",
            "                                                                                                  \n",
            " tf.math.multiply_18 (TFOpLambd  (None, 10)          0           ['model_21[0][0]',               \n",
            " a)                                                               'tf.math.log_4[0][0]']          \n",
            "                                                                                                  \n",
            " tf.math.multiply_19 (TFOpLambd  ()                  0           ['tf.math.reduce_sum_12[0][0]']  \n",
            " a)                                                                                               \n",
            "                                                                                                  \n",
            " tf.math.reduce_sum_13 (TFOpLam  ()                  0           ['tf.math.reduce_mean_13[0][0]'] \n",
            " bda)                                                                                             \n",
            "                                                                                                  \n",
            " tf.math.reduce_mean_14 (TFOpLa  (10,)               0           ['tf.math.multiply_18[0][0]']    \n",
            " mbda)                                                                                            \n",
            "                                                                                                  \n",
            " tf.__operators__.add_13 (TFOpL  ()                  0           ['tf.math.multiply_19[0][0]',    \n",
            " ambda)                                                           'tf.math.reduce_sum_13[0][0]']  \n",
            "                                                                                                  \n",
            " tf.math.reduce_sum_14 (TFOpLam  ()                  0           ['tf.math.reduce_mean_14[0][0]'] \n",
            " bda)                                                                                             \n",
            "                                                                                                  \n",
            " tf.__operators__.add_14 (TFOpL  ()                  0           ['tf.__operators__.add_13[0][0]',\n",
            " ambda)                                                           'tf.math.reduce_sum_14[0][0]']  \n",
            "                                                                                                  \n",
            " add_loss_4 (AddLoss)           ()                   0           ['tf.__operators__.add_14[0][0]']\n",
            "                                                                                                  \n",
            "==================================================================================================\n",
            "Total params: 2,435,850\n",
            "Trainable params: 2,427,658\n",
            "Non-trainable params: 8,192\n",
            "__________________________________________________________________________________________________\n"
          ]
        }
      ],
      "source": [
        "# 下面一大通都是为了定义loss\n",
        "z_mean = K.expand_dims(z_mean, 1)\n",
        "z_log_var = K.expand_dims(z_log_var, 1)\n",
        "\n",
        "lamb = 1 # 这是重构误差的权重，它的相反数就是重构方差，越大意味着方差越小。\n",
        "xent_loss = 0.5 * K.mean((x - x_recon)**2, 0) # 重构误差（Reconstruction Error）\n",
        "#xent_loss = losses.binary_crossentropy(x, x_recon)\n",
        "kl_loss = - 0.5 * (z_log_var - K.square(z_prior_mean))\n",
        "kl_loss = K.mean(K.batch_dot(K.expand_dims(y, 1), kl_loss), 0) # KL散度（KL Divergence）\n",
        "cat_loss = K.mean(y * K.log(y + K.epsilon()), 0) # 分类误差（Classification Error）\n",
        "vae_loss = lamb * K.sum(xent_loss) + K.sum(kl_loss) + K.sum(cat_loss) # 最后，这三部分的损失函数加权求和，得到总的损失函数，损失函数的值越小越好\n",
        "\n",
        "\n",
        "\n",
        "vae.add_loss(vae_loss)\n",
        "# optimizer = SGD(lr=learning_rate, momentum=momentum)\n",
        "#adam_optimizer = Adam(learning_rate=0.005)\n",
        "vae.compile(optimizer='adam') #Keras 的 Adam 优化器来训练模型\n",
        "vae.summary()"
      ]
    },
    {
      "cell_type": "code",
      "execution_count": null,
      "metadata": {
        "colab": {
          "base_uri": "https://localhost:8080/"
        },
        "id": "HVZMbuArKvFC",
        "outputId": "e3cbeec2-ca0f-4894-e599-dda5d56911c6"
      },
      "outputs": [
        {
          "output_type": "stream",
          "name": "stdout",
          "text": [
            "vae_vgg5_fashion_sgd_lr_0.005_100.h5\n"
          ]
        }
      ],
      "source": [
        "file_name = 'vae_vgg5_' + dataset + '_sgd_lr_' + str(learning_rate) + '_' + str(epochs) +'.h5'\n",
        "print(file_name)"
      ]
    },
    {
      "cell_type": "code",
      "execution_count": null,
      "metadata": {
        "colab": {
          "base_uri": "https://localhost:8080/",
          "height": 1000
        },
        "id": "va8cIKj2Dg5d",
        "outputId": "0fb4f536-632d-4318-baeb-f93fa496c1cb"
      },
      "outputs": [
        {
          "output_type": "stream",
          "name": "stderr",
          "text": [
            "WARNING:tensorflow:`period` argument is deprecated. Please use `save_freq` to specify the frequency in number of batches seen.\n"
          ]
        },
        {
          "output_type": "stream",
          "name": "stdout",
          "text": [
            "600/600 [==============================] - 15s 11ms/step - loss: 31.9098 - val_loss: 28.4620\n",
            "313/313 [==============================] - 1s 2ms/step\n",
            "313/313 [==============================] - 1s 2ms/step\n"
          ]
        },
        {
          "output_type": "stream",
          "name": "stderr",
          "text": [
            "WARNING:imageio:Lossy conversion from float64 to uint8. Range [0.0, 255.0]. Convert image to uint8 prior to saving to suppress this warning.\n",
            "WARNING:imageio:Lossy conversion from float64 to uint8. Range [0.0, 255.0]. Convert image to uint8 prior to saving to suppress this warning.\n",
            "WARNING:imageio:Lossy conversion from float64 to uint8. Range [0.0, 255.0]. Convert image to uint8 prior to saving to suppress this warning.\n",
            "WARNING:imageio:Lossy conversion from float64 to uint8. Range [0.0, 255.0]. Convert image to uint8 prior to saving to suppress this warning.\n",
            "WARNING:imageio:Lossy conversion from float64 to uint8. Range [0.0, 255.0]. Convert image to uint8 prior to saving to suppress this warning.\n"
          ]
        },
        {
          "output_type": "display_data",
          "data": {
            "text/plain": [
              "<PIL.Image.Image image mode=L size=140x56>"
            ],
            "image/png": "[encoded data removed]"
          },
          "metadata": {}
        },
        {
          "output_type": "stream",
          "name": "stdout",
          "text": [
            "600/600 [==============================] - 7s 11ms/step - loss: 25.1057 - val_loss: 24.7817\n",
            "600/600 [==============================] - 6s 11ms/step - loss: 24.5587 - val_loss: 24.8441\n",
            "600/600 [==============================] - 6s 10ms/step - loss: 24.3675 - val_loss: 23.8219\n",
            "600/600 [==============================] - 6s 10ms/step - loss: 24.2325 - val_loss: 24.0262\n",
            "600/600 [==============================] - 6s 10ms/step - loss: 24.1090 - val_loss: 24.6921\n",
            "600/600 [==============================] - 6s 10ms/step - loss: 24.0440 - val_loss: 24.2229\n",
            "600/600 [==============================] - 6s 10ms/step - loss: 23.9742 - val_loss: 23.9389\n",
            "600/600 [==============================] - 6s 10ms/step - loss: 23.8766 - val_loss: 23.8866\n",
            "600/600 [==============================] - 6s 11ms/step - loss: 23.8152 - val_loss: 23.8093\n",
            "600/600 [==============================] - 6s 11ms/step - loss: 23.7790 - val_loss: 23.3817\n",
            "313/313 [==============================] - 0s 2ms/step\n",
            "313/313 [==============================] - 0s 2ms/step\n"
          ]
        },
        {
          "output_type": "stream",
          "name": "stderr",
          "text": [
            "WARNING:imageio:Lossy conversion from float64 to uint8. Range [0.0, 255.0]. Convert image to uint8 prior to saving to suppress this warning.\n",
            "WARNING:imageio:Lossy conversion from float64 to uint8. Range [0.0, 255.0]. Convert image to uint8 prior to saving to suppress this warning.\n",
            "WARNING:imageio:Lossy conversion from float64 to uint8. Range [0.0, 255.0]. Convert image to uint8 prior to saving to suppress this warning.\n",
            "WARNING:imageio:Lossy conversion from float64 to uint8. Range [0.0, 255.0]. Convert image to uint8 prior to saving to suppress this warning.\n",
            "WARNING:imageio:Lossy conversion from float64 to uint8. Range [0.0, 255.0]. Convert image to uint8 prior to saving to suppress this warning.\n"
          ]
        },
        {
          "output_type": "display_data",
          "data": {
            "text/plain": [
              "<PIL.Image.Image image mode=L size=140x56>"
            ],
            "image/png": "[encoded data removed]"
          },
          "metadata": {}
        },
        {
          "output_type": "stream",
          "name": "stdout",
          "text": [
            "600/600 [==============================] - 6s 10ms/step - loss: 23.6618 - val_loss: 23.5708\n",
            "600/600 [==============================] - 6s 10ms/step - loss: 23.6236 - val_loss: 24.1037\n",
            "600/600 [==============================] - 6s 10ms/step - loss: 23.6209 - val_loss: 23.5603\n",
            "600/600 [==============================] - 6s 10ms/step - loss: 23.5651 - val_loss: 23.4286\n",
            "600/600 [==============================] - 6s 10ms/step - loss: 23.4912 - val_loss: 23.5432\n",
            "600/600 [==============================] - 6s 10ms/step - loss: 23.4843 - val_loss: 23.2610\n",
            "600/600 [==============================] - 6s 10ms/step - loss: 23.4575 - val_loss: 23.0725\n",
            "600/600 [==============================] - 6s 10ms/step - loss: 23.3682 - val_loss: 22.9914\n",
            "600/600 [==============================] - 7s 12ms/step - loss: 23.3527 - val_loss: 23.2790\n",
            "600/600 [==============================] - 7s 11ms/step - loss: 23.3478 - val_loss: 23.1007\n",
            "313/313 [==============================] - 0s 1ms/step\n",
            "313/313 [==============================] - 0s 2ms/step\n"
          ]
        },
        {
          "output_type": "stream",
          "name": "stderr",
          "text": [
            "WARNING:imageio:Lossy conversion from float64 to uint8. Range [0.0, 255.0]. Convert image to uint8 prior to saving to suppress this warning.\n",
            "WARNING:imageio:Lossy conversion from float64 to uint8. Range [0.0, 255.0]. Convert image to uint8 prior to saving to suppress this warning.\n",
            "WARNING:imageio:Lossy conversion from float64 to uint8. Range [0.0, 255.0]. Convert image to uint8 prior to saving to suppress this warning.\n",
            "WARNING:imageio:Lossy conversion from float64 to uint8. Range [0.0, 255.0]. Convert image to uint8 prior to saving to suppress this warning.\n",
            "WARNING:imageio:Lossy conversion from float64 to uint8. Range [0.0, 255.0]. Convert image to uint8 prior to saving to suppress this warning.\n"
          ]
        },
        {
          "output_type": "display_data",
          "data": {
            "text/plain": [
              "<PIL.Image.Image image mode=L size=140x56>"
            ],
            "image/png": "[encoded data removed]"
          },
          "metadata": {}
        },
        {
          "output_type": "stream",
          "name": "stdout",
          "text": [
            "600/600 [==============================] - 6s 10ms/step - loss: 23.2675 - val_loss: 23.0780\n",
            "600/600 [==============================] - 6s 10ms/step - loss: 23.2359 - val_loss: 22.8881\n",
            "600/600 [==============================] - 6s 10ms/step - loss: 23.2073 - val_loss: 22.8715\n",
            "600/600 [==============================] - 6s 10ms/step - loss: 23.1798 - val_loss: 22.8477\n",
            "600/600 [==============================] - 6s 10ms/step - loss: 23.1697 - val_loss: 22.7643\n",
            "600/600 [==============================] - 7s 11ms/step - loss: 23.1357 - val_loss: 22.8981\n",
            "600/600 [==============================] - 6s 10ms/step - loss: 23.1075 - val_loss: 22.8268\n",
            "600/600 [==============================] - 6s 10ms/step - loss: 23.1012 - val_loss: 22.7428\n",
            "600/600 [==============================] - 6s 10ms/step - loss: 23.0379 - val_loss: 22.7344\n",
            "600/600 [==============================] - 6s 10ms/step - loss: 23.0330 - val_loss: 22.7822\n",
            "313/313 [==============================] - 1s 2ms/step\n",
            "313/313 [==============================] - 0s 2ms/step\n"
          ]
        },
        {
          "output_type": "stream",
          "name": "stderr",
          "text": [
            "WARNING:imageio:Lossy conversion from float64 to uint8. Range [0.0, 255.0]. Convert image to uint8 prior to saving to suppress this warning.\n",
            "WARNING:imageio:Lossy conversion from float64 to uint8. Range [0.0, 255.0]. Convert image to uint8 prior to saving to suppress this warning.\n",
            "WARNING:imageio:Lossy conversion from float64 to uint8. Range [0.0, 255.0]. Convert image to uint8 prior to saving to suppress this warning.\n",
            "WARNING:imageio:Lossy conversion from float64 to uint8. Range [0.0, 255.0]. Convert image to uint8 prior to saving to suppress this warning.\n",
            "WARNING:imageio:Lossy conversion from float64 to uint8. Range [0.0, 255.0]. Convert image to uint8 prior to saving to suppress this warning.\n"
          ]
        },
        {
          "output_type": "display_data",
          "data": {
            "text/plain": [
              "<PIL.Image.Image image mode=L size=140x56>"
            ],
            "image/png": "[encoded data removed]"
          },
          "metadata": {}
        },
        {
          "output_type": "stream",
          "name": "stdout",
          "text": [
            "600/600 [==============================] - 6s 10ms/step - loss: 23.0253 - val_loss: 22.8226\n",
            "600/600 [==============================] - 6s 10ms/step - loss: 22.9710 - val_loss: 22.6538\n",
            "600/600 [==============================] - 6s 10ms/step - loss: 22.9694 - val_loss: 22.6093\n",
            "600/600 [==============================] - 7s 11ms/step - loss: 22.9635 - val_loss: 22.5632\n",
            "600/600 [==============================] - 6s 10ms/step - loss: 22.9628 - val_loss: 22.6663\n",
            "600/600 [==============================] - 6s 10ms/step - loss: 22.9229 - val_loss: 22.6522\n",
            "600/600 [==============================] - 6s 10ms/step - loss: 22.9121 - val_loss: 22.6359\n",
            "600/600 [==============================] - 6s 10ms/step - loss: 22.9022 - val_loss: 22.5861\n",
            "600/600 [==============================] - 6s 10ms/step - loss: 22.9011 - val_loss: 22.6571\n",
            "600/600 [==============================] - 6s 10ms/step - loss: 22.8616 - val_loss: 22.6068\n",
            "313/313 [==============================] - 1s 2ms/step\n",
            "313/313 [==============================] - 0s 2ms/step\n"
          ]
        },
        {
          "output_type": "stream",
          "name": "stderr",
          "text": [
            "WARNING:imageio:Lossy conversion from float64 to uint8. Range [0.0, 255.0]. Convert image to uint8 prior to saving to suppress this warning.\n",
            "WARNING:imageio:Lossy conversion from float64 to uint8. Range [0.0, 255.0]. Convert image to uint8 prior to saving to suppress this warning.\n",
            "WARNING:imageio:Lossy conversion from float64 to uint8. Range [0.0, 255.0]. Convert image to uint8 prior to saving to suppress this warning.\n",
            "WARNING:imageio:Lossy conversion from float64 to uint8. Range [0.0, 255.0]. Convert image to uint8 prior to saving to suppress this warning.\n",
            "WARNING:imageio:Lossy conversion from float64 to uint8. Range [0.0, 255.0]. Convert image to uint8 prior to saving to suppress this warning.\n"
          ]
        },
        {
          "output_type": "display_data",
          "data": {
            "text/plain": [
              "<PIL.Image.Image image mode=L size=140x56>"
            ],
            "image/png": "[encoded data removed]"
          },
          "metadata": {}
        },
        {
          "output_type": "stream",
          "name": "stdout",
          "text": [
            "600/600 [==============================] - 6s 10ms/step - loss: 22.8333 - val_loss: 22.5227\n",
            "600/600 [==============================] - 7s 11ms/step - loss: 22.8110 - val_loss: 22.5036\n",
            "600/600 [==============================] - 6s 10ms/step - loss: 22.8128 - val_loss: 22.5493\n",
            "600/600 [==============================] - 6s 10ms/step - loss: 22.7909 - val_loss: 22.4577\n",
            "600/600 [==============================] - 6s 10ms/step - loss: 22.8308 - val_loss: 22.4191\n",
            "600/600 [==============================] - 6s 10ms/step - loss: 22.7744 - val_loss: 22.4807\n",
            "600/600 [==============================] - 6s 10ms/step - loss: 22.7760 - val_loss: 22.5326\n",
            "600/600 [==============================] - 6s 10ms/step - loss: 22.7657 - val_loss: 22.4609\n",
            "600/600 [==============================] - 6s 10ms/step - loss: 22.7755 - val_loss: 22.5141\n",
            "600/600 [==============================] - 6s 10ms/step - loss: 22.7803 - val_loss: 22.6104\n",
            "313/313 [==============================] - 1s 2ms/step\n",
            "313/313 [==============================] - 1s 2ms/step\n"
          ]
        },
        {
          "output_type": "stream",
          "name": "stderr",
          "text": [
            "WARNING:imageio:Lossy conversion from float64 to uint8. Range [0.0, 255.0]. Convert image to uint8 prior to saving to suppress this warning.\n",
            "WARNING:imageio:Lossy conversion from float64 to uint8. Range [0.0, 255.0]. Convert image to uint8 prior to saving to suppress this warning.\n",
            "WARNING:imageio:Lossy conversion from float64 to uint8. Range [0.0, 255.0]. Convert image to uint8 prior to saving to suppress this warning.\n",
            "WARNING:imageio:Lossy conversion from float64 to uint8. Range [0.0, 255.0]. Convert image to uint8 prior to saving to suppress this warning.\n",
            "WARNING:imageio:Lossy conversion from float64 to uint8. Range [0.0, 255.0]. Convert image to uint8 prior to saving to suppress this warning.\n"
          ]
        },
        {
          "output_type": "display_data",
          "data": {
            "text/plain": [
              "<PIL.Image.Image image mode=L size=140x56>"
            ],
            "image/png": "[encoded data removed]"
          },
          "metadata": {}
        },
        {
          "output_type": "stream",
          "name": "stdout",
          "text": [
            "600/600 [==============================] - 6s 10ms/step - loss: 22.7550 - val_loss: 22.4197\n",
            "600/600 [==============================] - 6s 10ms/step - loss: 22.7337 - val_loss: 22.3511\n",
            "600/600 [==============================] - 6s 10ms/step - loss: 22.7472 - val_loss: 22.4016\n",
            "600/600 [==============================] - 6s 10ms/step - loss: 22.6919 - val_loss: 22.4330\n",
            "600/600 [==============================] - 6s 10ms/step - loss: 22.7223 - val_loss: 22.4747\n",
            "600/600 [==============================] - 6s 10ms/step - loss: 22.7206 - val_loss: 22.4610\n",
            "600/600 [==============================] - 6s 10ms/step - loss: 22.6948 - val_loss: 22.4260\n",
            "600/600 [==============================] - 6s 11ms/step - loss: 22.6807 - val_loss: 22.5055\n",
            "600/600 [==============================] - 6s 11ms/step - loss: 22.6839 - val_loss: 22.4102\n",
            "600/600 [==============================] - 6s 10ms/step - loss: 22.6897 - val_loss: 22.4421\n",
            "313/313 [==============================] - 1s 2ms/step\n",
            "313/313 [==============================] - 1s 2ms/step\n"
          ]
        },
        {
          "output_type": "stream",
          "name": "stderr",
          "text": [
            "WARNING:imageio:Lossy conversion from float64 to uint8. Range [0.0, 255.0]. Convert image to uint8 prior to saving to suppress this warning.\n",
            "WARNING:imageio:Lossy conversion from float64 to uint8. Range [0.0, 255.0]. Convert image to uint8 prior to saving to suppress this warning.\n",
            "WARNING:imageio:Lossy conversion from float64 to uint8. Range [0.0, 255.0]. Convert image to uint8 prior to saving to suppress this warning.\n",
            "WARNING:imageio:Lossy conversion from float64 to uint8. Range [0.0, 255.0]. Convert image to uint8 prior to saving to suppress this warning.\n",
            "WARNING:imageio:Lossy conversion from float64 to uint8. Range [0.0, 255.0]. Convert image to uint8 prior to saving to suppress this warning.\n"
          ]
        },
        {
          "output_type": "display_data",
          "data": {
            "text/plain": [
              "<PIL.Image.Image image mode=L size=140x56>"
            ],
            "image/png": "[encoded data removed]"
          },
          "metadata": {}
        },
        {
          "output_type": "stream",
          "name": "stdout",
          "text": [
            "600/600 [==============================] - 6s 10ms/step - loss: 22.7063 - val_loss: 22.3949\n",
            "600/600 [==============================] - 6s 10ms/step - loss: 22.6677 - val_loss: 22.3730\n",
            "600/600 [==============================] - 6s 10ms/step - loss: 22.6598 - val_loss: 22.4566\n",
            "600/600 [==============================] - 6s 10ms/step - loss: 22.6572 - val_loss: 22.4293\n",
            "600/600 [==============================] - 6s 10ms/step - loss: 22.6530 - val_loss: 22.3514\n",
            "600/600 [==============================] - 7s 11ms/step - loss: 22.6329 - val_loss: 22.3933\n",
            "600/600 [==============================] - 6s 11ms/step - loss: 22.6277 - val_loss: 22.3312\n",
            "600/600 [==============================] - 6s 10ms/step - loss: 22.6533 - val_loss: 22.3810\n",
            "600/600 [==============================] - 6s 10ms/step - loss: 22.6286 - val_loss: 22.3524\n",
            "600/600 [==============================] - 6s 10ms/step - loss: 22.6132 - val_loss: 22.4135\n",
            "313/313 [==============================] - 1s 2ms/step\n",
            "313/313 [==============================] - 1s 2ms/step\n"
          ]
        },
        {
          "output_type": "stream",
          "name": "stderr",
          "text": [
            "WARNING:imageio:Lossy conversion from float64 to uint8. Range [0.0, 255.0]. Convert image to uint8 prior to saving to suppress this warning.\n",
            "WARNING:imageio:Lossy conversion from float64 to uint8. Range [0.0, 255.0]. Convert image to uint8 prior to saving to suppress this warning.\n",
            "WARNING:imageio:Lossy conversion from float64 to uint8. Range [0.0, 255.0]. Convert image to uint8 prior to saving to suppress this warning.\n",
            "WARNING:imageio:Lossy conversion from float64 to uint8. Range [0.0, 255.0]. Convert image to uint8 prior to saving to suppress this warning.\n",
            "WARNING:imageio:Lossy conversion from float64 to uint8. Range [0.0, 255.0]. Convert image to uint8 prior to saving to suppress this warning.\n"
          ]
        },
        {
          "output_type": "display_data",
          "data": {
            "text/plain": [
              "<PIL.Image.Image image mode=L size=140x56>"
            ],
            "image/png": "[encoded data removed]"
          },
          "metadata": {}
        },
        {
          "output_type": "stream",
          "name": "stdout",
          "text": [
            "600/600 [==============================] - 6s 10ms/step - loss: 22.6370 - val_loss: 22.4256\n",
            "600/600 [==============================] - 6s 10ms/step - loss: 22.6150 - val_loss: 22.4062\n",
            "600/600 [==============================] - 6s 10ms/step - loss: 22.6002 - val_loss: 22.2403\n",
            "600/600 [==============================] - 7s 11ms/step - loss: 22.6270 - val_loss: 22.2639\n",
            "600/600 [==============================] - 6s 10ms/step - loss: 22.6121 - val_loss: 22.4032\n",
            "600/600 [==============================] - 6s 10ms/step - loss: 22.5990 - val_loss: 22.3706\n",
            "600/600 [==============================] - 6s 10ms/step - loss: 22.6116 - val_loss: 22.2398\n",
            "600/600 [==============================] - 6s 10ms/step - loss: 22.5898 - val_loss: 22.3776\n",
            "600/600 [==============================] - 6s 10ms/step - loss: 22.6004 - val_loss: 22.3769\n",
            "600/600 [==============================] - 6s 10ms/step - loss: 22.5837 - val_loss: 22.3033\n",
            "313/313 [==============================] - 1s 2ms/step\n",
            "313/313 [==============================] - 1s 2ms/step\n"
          ]
        },
        {
          "output_type": "stream",
          "name": "stderr",
          "text": [
            "WARNING:imageio:Lossy conversion from float64 to uint8. Range [0.0, 255.0]. Convert image to uint8 prior to saving to suppress this warning.\n",
            "WARNING:imageio:Lossy conversion from float64 to uint8. Range [0.0, 255.0]. Convert image to uint8 prior to saving to suppress this warning.\n",
            "WARNING:imageio:Lossy conversion from float64 to uint8. Range [0.0, 255.0]. Convert image to uint8 prior to saving to suppress this warning.\n",
            "WARNING:imageio:Lossy conversion from float64 to uint8. Range [0.0, 255.0]. Convert image to uint8 prior to saving to suppress this warning.\n",
            "WARNING:imageio:Lossy conversion from float64 to uint8. Range [0.0, 255.0]. Convert image to uint8 prior to saving to suppress this warning.\n"
          ]
        },
        {
          "output_type": "display_data",
          "data": {
            "text/plain": [
              "<PIL.Image.Image image mode=L size=140x56>"
            ],
            "image/png": "[encoded data removed]"
          },
          "metadata": {}
        },
        {
          "output_type": "stream",
          "name": "stdout",
          "text": [
            "600/600 [==============================] - 6s 10ms/step - loss: 22.5546 - val_loss: 22.3174\n",
            "600/600 [==============================] - 7s 11ms/step - loss: 22.5892 - val_loss: 22.3198\n",
            "600/600 [==============================] - 6s 11ms/step - loss: 22.5782 - val_loss: 22.3292\n",
            "600/600 [==============================] - 6s 10ms/step - loss: 22.5612 - val_loss: 22.2945\n",
            "600/600 [==============================] - 6s 10ms/step - loss: 22.5471 - val_loss: 22.2581\n",
            "600/600 [==============================] - 6s 10ms/step - loss: 22.5492 - val_loss: 22.2703\n",
            "600/600 [==============================] - 6s 10ms/step - loss: 22.5592 - val_loss: 22.2607\n",
            "600/600 [==============================] - 6s 10ms/step - loss: 22.5737 - val_loss: 22.2748\n",
            "600/600 [==============================] - 6s 10ms/step - loss: 22.5563 - val_loss: 22.3024\n",
            "600/600 [==============================] - 6s 11ms/step - loss: 22.5273 - val_loss: 22.3052\n",
            "313/313 [==============================] - 1s 2ms/step\n",
            "313/313 [==============================] - 1s 2ms/step\n"
          ]
        },
        {
          "output_type": "stream",
          "name": "stderr",
          "text": [
            "WARNING:imageio:Lossy conversion from float64 to uint8. Range [0.0, 255.0]. Convert image to uint8 prior to saving to suppress this warning.\n",
            "WARNING:imageio:Lossy conversion from float64 to uint8. Range [0.0, 255.0]. Convert image to uint8 prior to saving to suppress this warning.\n",
            "WARNING:imageio:Lossy conversion from float64 to uint8. Range [0.0, 255.0]. Convert image to uint8 prior to saving to suppress this warning.\n",
            "WARNING:imageio:Lossy conversion from float64 to uint8. Range [0.0, 255.0]. Convert image to uint8 prior to saving to suppress this warning.\n",
            "WARNING:imageio:Lossy conversion from float64 to uint8. Range [0.0, 255.0]. Convert image to uint8 prior to saving to suppress this warning.\n"
          ]
        },
        {
          "output_type": "display_data",
          "data": {
            "text/plain": [
              "<PIL.Image.Image image mode=L size=140x56>"
            ],
            "image/png": "[encoded data removed]"
          },
          "metadata": {}
        },
        {
          "output_type": "stream",
          "name": "stdout",
          "text": [
            "600/600 [==============================] - 7s 11ms/step - loss: 22.5616 - val_loss: 22.3221\n",
            "600/600 [==============================] - 6s 10ms/step - loss: 22.5284 - val_loss: 22.3419\n",
            "600/600 [==============================] - 6s 10ms/step - loss: 22.5591 - val_loss: 22.2404\n",
            "600/600 [==============================] - 6s 11ms/step - loss: 22.5350 - val_loss: 22.4134\n",
            "600/600 [==============================] - 6s 10ms/step - loss: 22.5149 - val_loss: 22.3353\n",
            "600/600 [==============================] - 6s 10ms/step - loss: 22.5308 - val_loss: 22.1965\n",
            "600/600 [==============================] - 6s 10ms/step - loss: 22.5231 - val_loss: 22.2617\n",
            "600/600 [==============================] - 6s 10ms/step - loss: 22.5449 - val_loss: 22.3336\n",
            "600/600 [==============================] - 7s 11ms/step - loss: 22.5222 - val_loss: 22.2962\n"
          ]
        }
      ],
      "source": [
        "if not os.path.exists('compare'):\n",
        "    os.mkdir('compare')\n",
        "\n",
        "early_stopping = EarlyStopping(monitor='val_loss', patience=10, verbose=1)\n",
        "reduce_lr = ReduceLROnPlateau(monitor='val_loss', factor=0.5, patience=5, verbose=1, min_lr=1e-6)\n",
        "checkpoint_callback = ModelCheckpoint(\n",
        "    filepath = file_name,  # 模型保存路径\n",
        "    save_freq='epoch',  # 保存频率为每个epoch\n",
        "    period=10  # 每隔10个epoch保存一次模型\n",
        ")\n",
        "\n",
        "callbacks = [early_stopping, reduce_lr]\n",
        "\n",
        "\n",
        "for i in range(epochs):\n",
        "  vae.fit(x_train,\n",
        "      shuffle=True,\n",
        "      epochs=1,\n",
        "      batch_size=batch_size,\n",
        "      validation_data=(x_test, None))\n",
        "      #callbacks=callbacks)\n",
        "\n",
        "  if i % 10 == 0:\n",
        "        x_test_encoded = encoder.predict(x_test)\n",
        "        recon = generator.predict(x_test_encoded)\n",
        "        n = 5  # change this line to adjust the number of images\n",
        "        fig = np.zeros((img_dim * 2, img_dim * n))\n",
        "        for m in range(15, 20):  # change this line\n",
        "            x_test_origin = x_test[m].reshape((img_dim, img_dim))\n",
        "            fig[0 * img_dim: (0 + 1) * img_dim,\n",
        "                (m - 15) * img_dim: ((m - 15) + 1) * img_dim] = x_test_origin  # change this line\n",
        "\n",
        "            x_test_generate = recon[m].reshape((img_dim, img_dim))\n",
        "            fig[1 * img_dim: (1 + 1) * img_dim,\n",
        "                (m - 15) * img_dim: ((m - 15) + 1) * img_dim] = x_test_generate  # change this line\n",
        "\n",
        "            fit_path = './compare/epoch' + str(i) + '_compare.png'\n",
        "            imageio.imwrite(fit_path, fig * 255)\n",
        "\n",
        "        # 将numpy数组转换为PIL Image对象\n",
        "        fig_pil = Image.fromarray((fig * 255).astype(np.uint8))\n",
        "\n",
        "        # 显示图像\n",
        "        display(fig_pil)\n",
        "\n",
        "# 将模型保存到文件\n",
        "vae.save(file_name)"
      ]
    },
    {
      "cell_type": "code",
      "execution_count": null,
      "metadata": {
        "colab": {
          "base_uri": "https://localhost:8080/"
        },
        "id": "LLLpq11HDlcw",
        "outputId": "10274f56-be6e-476c-c73b-40ce8615bdba"
      },
      "outputs": [
        {
          "output_type": "stream",
          "name": "stdout",
          "text": [
            "1875/1875 [==============================] - 3s 2ms/step\n",
            "1875/1875 [==============================] - 2s 1ms/step\n",
            "313/313 [==============================] - 0s 2ms/step\n",
            "313/313 [==============================] - 0s 1ms/step\n"
          ]
        }
      ],
      "source": [
        "means = K.eval(gaussian.mean)\n",
        "x_train_encoded = encoder.predict(x_train)\n",
        "y_train_pred = classfier.predict(x_train_encoded).argmax(axis=1)\n",
        "x_test_encoded = encoder.predict(x_test)\n",
        "y_test_pred = classfier.predict(x_test_encoded).argmax(axis=1)"
      ]
    },
    {
      "cell_type": "code",
      "execution_count": null,
      "metadata": {
        "id": "7_e5Q99_DvBm"
      },
      "outputs": [],
      "source": [
        "def cluster_sample(path, category=0):\n",
        "    \"\"\"观察被模型聚为同一类的样本\n",
        "    \"\"\"\n",
        "    n = 8\n",
        "    figure = np.zeros((img_dim * n, img_dim * n))\n",
        "    idxs = np.where(y_train_pred == category)[0]\n",
        "    for i in range(n):\n",
        "        for j in range(n):\n",
        "            digit = x_train[np.random.choice(idxs)]\n",
        "            digit = digit.reshape((img_dim, img_dim))\n",
        "            figure[i * img_dim: (i + 1) * img_dim,\n",
        "            j * img_dim: (j + 1) * img_dim] = digit\n",
        "    imageio.imwrite(path, figure * 255)"
      ]
    },
    {
      "cell_type": "code",
      "execution_count": null,
      "metadata": {
        "id": "FwAm5JLpDwty"
      },
      "outputs": [],
      "source": [
        "def random_sample(path, category=0, std=1):\n",
        "    \"\"\"按照聚类结果进行条件随机生成\n",
        "    \"\"\"\n",
        "    n = 8\n",
        "    figure = np.zeros((img_dim * n, img_dim * n))\n",
        "    for i in range(n):\n",
        "        for j in range(n):\n",
        "            noise_shape = (1, latent_dim)\n",
        "            z_sample = np.array(np.random.randn(*noise_shape)) * std + means[category]\n",
        "            x_recon = generator.predict(z_sample)\n",
        "            digit = x_recon[0].reshape((img_dim, img_dim))\n",
        "            figure[i * img_dim: (i + 1) * img_dim,\n",
        "            j * img_dim: (j + 1) * img_dim] = digit\n",
        "    imageio.imwrite(path, figure * 255)"
      ]
    },
    {
      "cell_type": "code",
      "execution_count": null,
      "metadata": {
        "colab": {
          "base_uri": "https://localhost:8080/"
        },
        "id": "yc-x9znHD3W_",
        "outputId": "9fc91dd0-4868-462f-b819-749ac4915a64"
      },
      "outputs": [
        {
          "output_type": "stream",
          "name": "stderr",
          "text": [
            "WARNING:imageio:Lossy conversion from float64 to uint8. Range [0.0, 255.0]. Convert image to uint8 prior to saving to suppress this warning.\n"
          ]
        },
        {
          "output_type": "stream",
          "name": "stdout",
          "text": [
            "1/1 [==============================] - 0s 21ms/step\n",
            "1/1 [==============================] - 0s 20ms/step\n",
            "1/1 [==============================] - 0s 20ms/step\n",
            "1/1 [==============================] - 0s 20ms/step\n",
            "1/1 [==============================] - 0s 21ms/step\n",
            "1/1 [==============================] - 0s 23ms/step\n",
            "1/1 [==============================] - 0s 22ms/step\n",
            "1/1 [==============================] - 0s 21ms/step\n",
            "1/1 [==============================] - 0s 20ms/step\n",
            "1/1 [==============================] - 0s 20ms/step\n",
            "1/1 [==============================] - 0s 23ms/step\n",
            "1/1 [==============================] - 0s 24ms/step\n",
            "1/1 [==============================] - 0s 21ms/step\n",
            "1/1 [==============================] - 0s 21ms/step\n",
            "1/1 [==============================] - 0s 22ms/step\n",
            "1/1 [==============================] - 0s 20ms/step\n",
            "1/1 [==============================] - 0s 21ms/step\n",
            "1/1 [==============================] - 0s 19ms/step\n",
            "1/1 [==============================] - 0s 20ms/step\n",
            "1/1 [==============================] - 0s 22ms/step\n",
            "1/1 [==============================] - 0s 20ms/step\n",
            "1/1 [==============================] - 0s 20ms/step\n",
            "1/1 [==============================] - 0s 22ms/step\n",
            "1/1 [==============================] - 0s 21ms/step\n",
            "1/1 [==============================] - 0s 21ms/step\n",
            "1/1 [==============================] - 0s 20ms/step\n",
            "1/1 [==============================] - 0s 22ms/step\n",
            "1/1 [==============================] - 0s 20ms/step\n",
            "1/1 [==============================] - 0s 20ms/step\n",
            "1/1 [==============================] - 0s 19ms/step\n",
            "1/1 [==============================] - 0s 21ms/step\n",
            "1/1 [==============================] - 0s 20ms/step\n",
            "1/1 [==============================] - 0s 21ms/step\n",
            "1/1 [==============================] - 0s 20ms/step\n",
            "1/1 [==============================] - 0s 20ms/step\n",
            "1/1 [==============================] - 0s 21ms/step\n",
            "1/1 [==============================] - 0s 20ms/step\n",
            "1/1 [==============================] - 0s 20ms/step\n",
            "1/1 [==============================] - 0s 22ms/step\n",
            "1/1 [==============================] - 0s 20ms/step\n",
            "1/1 [==============================] - 0s 21ms/step\n",
            "1/1 [==============================] - 0s 19ms/step\n",
            "1/1 [==============================] - 0s 19ms/step\n",
            "1/1 [==============================] - 0s 20ms/step\n",
            "1/1 [==============================] - 0s 19ms/step\n",
            "1/1 [==============================] - 0s 20ms/step\n",
            "1/1 [==============================] - 0s 20ms/step\n",
            "1/1 [==============================] - 0s 22ms/step\n",
            "1/1 [==============================] - 0s 20ms/step\n",
            "1/1 [==============================] - 0s 21ms/step\n",
            "1/1 [==============================] - 0s 21ms/step\n",
            "1/1 [==============================] - 0s 20ms/step\n",
            "1/1 [==============================] - 0s 20ms/step\n",
            "1/1 [==============================] - 0s 20ms/step\n",
            "1/1 [==============================] - 0s 21ms/step\n",
            "1/1 [==============================] - 0s 20ms/step\n",
            "1/1 [==============================] - 0s 20ms/step\n",
            "1/1 [==============================] - 0s 20ms/step\n",
            "1/1 [==============================] - 0s 20ms/step\n",
            "1/1 [==============================] - 0s 20ms/step\n",
            "1/1 [==============================] - 0s 20ms/step\n",
            "1/1 [==============================] - 0s 20ms/step\n",
            "1/1 [==============================] - 0s 21ms/step\n",
            "1/1 [==============================] - 0s 20ms/step\n"
          ]
        },
        {
          "output_type": "stream",
          "name": "stderr",
          "text": [
            "WARNING:imageio:Lossy conversion from float64 to uint8. Range [8.292317041358466e-08, 251.27249121665955]. Convert image to uint8 prior to saving to suppress this warning.\n",
            "WARNING:imageio:Lossy conversion from float64 to uint8. Range [0.0, 255.0]. Convert image to uint8 prior to saving to suppress this warning.\n"
          ]
        },
        {
          "output_type": "stream",
          "name": "stdout",
          "text": [
            "1/1 [==============================] - 0s 20ms/step\n",
            "1/1 [==============================] - 0s 19ms/step\n",
            "1/1 [==============================] - 0s 20ms/step\n",
            "1/1 [==============================] - 0s 21ms/step\n",
            "1/1 [==============================] - 0s 21ms/step\n",
            "1/1 [==============================] - 0s 24ms/step\n",
            "1/1 [==============================] - 0s 21ms/step\n",
            "1/1 [==============================] - 0s 22ms/step\n",
            "1/1 [==============================] - 0s 21ms/step\n",
            "1/1 [==============================] - 0s 21ms/step\n",
            "1/1 [==============================] - 0s 21ms/step\n",
            "1/1 [==============================] - 0s 22ms/step\n",
            "1/1 [==============================] - 0s 21ms/step\n",
            "1/1 [==============================] - 0s 21ms/step\n",
            "1/1 [==============================] - 0s 21ms/step\n",
            "1/1 [==============================] - 0s 20ms/step\n",
            "1/1 [==============================] - 0s 21ms/step\n",
            "1/1 [==============================] - 0s 20ms/step\n",
            "1/1 [==============================] - 0s 20ms/step\n",
            "1/1 [==============================] - 0s 23ms/step\n",
            "1/1 [==============================] - 0s 22ms/step\n",
            "1/1 [==============================] - 0s 23ms/step\n",
            "1/1 [==============================] - 0s 24ms/step\n",
            "1/1 [==============================] - 0s 20ms/step\n",
            "1/1 [==============================] - 0s 21ms/step\n",
            "1/1 [==============================] - 0s 20ms/step\n",
            "1/1 [==============================] - 0s 20ms/step\n",
            "1/1 [==============================] - 0s 20ms/step\n",
            "1/1 [==============================] - 0s 23ms/step\n",
            "1/1 [==============================] - 0s 21ms/step\n",
            "1/1 [==============================] - 0s 21ms/step\n",
            "1/1 [==============================] - 0s 22ms/step\n",
            "1/1 [==============================] - 0s 20ms/step\n",
            "1/1 [==============================] - 0s 20ms/step\n",
            "1/1 [==============================] - 0s 20ms/step\n",
            "1/1 [==============================] - 0s 20ms/step\n",
            "1/1 [==============================] - 0s 21ms/step\n",
            "1/1 [==============================] - 0s 21ms/step\n",
            "1/1 [==============================] - 0s 29ms/step\n",
            "1/1 [==============================] - 0s 25ms/step\n",
            "1/1 [==============================] - 0s 22ms/step\n",
            "1/1 [==============================] - 0s 21ms/step\n",
            "1/1 [==============================] - 0s 19ms/step\n",
            "1/1 [==============================] - 0s 20ms/step\n",
            "1/1 [==============================] - 0s 21ms/step\n",
            "1/1 [==============================] - 0s 21ms/step\n",
            "1/1 [==============================] - 0s 21ms/step\n",
            "1/1 [==============================] - 0s 22ms/step\n",
            "1/1 [==============================] - 0s 24ms/step\n",
            "1/1 [==============================] - 0s 21ms/step\n",
            "1/1 [==============================] - 0s 21ms/step\n",
            "1/1 [==============================] - 0s 21ms/step\n",
            "1/1 [==============================] - 0s 21ms/step\n",
            "1/1 [==============================] - 0s 28ms/step\n",
            "1/1 [==============================] - 0s 20ms/step\n",
            "1/1 [==============================] - 0s 21ms/step\n",
            "1/1 [==============================] - 0s 25ms/step\n",
            "1/1 [==============================] - 0s 21ms/step\n",
            "1/1 [==============================] - 0s 23ms/step\n",
            "1/1 [==============================] - 0s 21ms/step\n",
            "1/1 [==============================] - 0s 20ms/step\n",
            "1/1 [==============================] - 0s 24ms/step\n",
            "1/1 [==============================] - 0s 22ms/step\n",
            "1/1 [==============================] - 0s 20ms/step\n"
          ]
        },
        {
          "output_type": "stream",
          "name": "stderr",
          "text": [
            "WARNING:imageio:Lossy conversion from float64 to uint8. Range [1.2756416030157425e-05, 249.35283422470093]. Convert image to uint8 prior to saving to suppress this warning.\n",
            "WARNING:imageio:Lossy conversion from float64 to uint8. Range [0.0, 255.0]. Convert image to uint8 prior to saving to suppress this warning.\n"
          ]
        },
        {
          "output_type": "stream",
          "name": "stdout",
          "text": [
            "1/1 [==============================] - 0s 20ms/step\n",
            "1/1 [==============================] - 0s 21ms/step\n",
            "1/1 [==============================] - 0s 21ms/step\n",
            "1/1 [==============================] - 0s 21ms/step\n",
            "1/1 [==============================] - 0s 21ms/step\n",
            "1/1 [==============================] - 0s 20ms/step\n",
            "1/1 [==============================] - 0s 21ms/step\n",
            "1/1 [==============================] - 0s 20ms/step\n",
            "1/1 [==============================] - 0s 20ms/step\n",
            "1/1 [==============================] - 0s 21ms/step\n",
            "1/1 [==============================] - 0s 21ms/step\n",
            "1/1 [==============================] - 0s 21ms/step\n",
            "1/1 [==============================] - 0s 21ms/step\n",
            "1/1 [==============================] - 0s 20ms/step\n",
            "1/1 [==============================] - 0s 20ms/step\n",
            "1/1 [==============================] - 0s 20ms/step\n",
            "1/1 [==============================] - 0s 20ms/step\n",
            "1/1 [==============================] - 0s 21ms/step\n",
            "1/1 [==============================] - 0s 22ms/step\n",
            "1/1 [==============================] - 0s 21ms/step\n",
            "1/1 [==============================] - 0s 23ms/step\n",
            "1/1 [==============================] - 0s 27ms/step\n",
            "1/1 [==============================] - 0s 21ms/step\n",
            "1/1 [==============================] - 0s 20ms/step\n",
            "1/1 [==============================] - 0s 23ms/step\n",
            "1/1 [==============================] - 0s 20ms/step\n",
            "1/1 [==============================] - 0s 20ms/step\n",
            "1/1 [==============================] - 0s 19ms/step\n",
            "1/1 [==============================] - 0s 21ms/step\n",
            "1/1 [==============================] - 0s 20ms/step\n",
            "1/1 [==============================] - 0s 20ms/step\n",
            "1/1 [==============================] - 0s 20ms/step\n",
            "1/1 [==============================] - 0s 19ms/step\n",
            "1/1 [==============================] - 0s 19ms/step\n",
            "1/1 [==============================] - 0s 19ms/step\n",
            "1/1 [==============================] - 0s 20ms/step\n",
            "1/1 [==============================] - 0s 22ms/step\n",
            "1/1 [==============================] - 0s 21ms/step\n",
            "1/1 [==============================] - 0s 22ms/step\n",
            "1/1 [==============================] - 0s 20ms/step\n",
            "1/1 [==============================] - 0s 20ms/step\n",
            "1/1 [==============================] - 0s 19ms/step\n",
            "1/1 [==============================] - 0s 20ms/step\n",
            "1/1 [==============================] - 0s 19ms/step\n",
            "1/1 [==============================] - 0s 19ms/step\n",
            "1/1 [==============================] - 0s 21ms/step\n",
            "1/1 [==============================] - 0s 20ms/step\n",
            "1/1 [==============================] - 0s 19ms/step\n",
            "1/1 [==============================] - 0s 19ms/step\n",
            "1/1 [==============================] - 0s 19ms/step\n",
            "1/1 [==============================] - 0s 18ms/step\n",
            "1/1 [==============================] - 0s 19ms/step\n",
            "1/1 [==============================] - 0s 20ms/step\n",
            "1/1 [==============================] - 0s 19ms/step\n",
            "1/1 [==============================] - 0s 21ms/step\n",
            "1/1 [==============================] - 0s 20ms/step\n",
            "1/1 [==============================] - 0s 19ms/step\n",
            "1/1 [==============================] - 0s 19ms/step\n",
            "1/1 [==============================] - 0s 18ms/step\n",
            "1/1 [==============================] - 0s 19ms/step\n",
            "1/1 [==============================] - 0s 19ms/step\n",
            "1/1 [==============================] - 0s 18ms/step\n",
            "1/1 [==============================] - 0s 19ms/step\n",
            "1/1 [==============================] - 0s 20ms/step\n"
          ]
        },
        {
          "output_type": "stream",
          "name": "stderr",
          "text": [
            "WARNING:imageio:Lossy conversion from float64 to uint8. Range [0.0016113010565277364, 214.88281667232513]. Convert image to uint8 prior to saving to suppress this warning.\n",
            "WARNING:imageio:Lossy conversion from float64 to uint8. Range [0.0, 255.0]. Convert image to uint8 prior to saving to suppress this warning.\n"
          ]
        },
        {
          "output_type": "stream",
          "name": "stdout",
          "text": [
            "1/1 [==============================] - 0s 19ms/step\n",
            "1/1 [==============================] - 0s 19ms/step\n",
            "1/1 [==============================] - 0s 19ms/step\n",
            "1/1 [==============================] - 0s 19ms/step\n",
            "1/1 [==============================] - 0s 19ms/step\n",
            "1/1 [==============================] - 0s 19ms/step\n",
            "1/1 [==============================] - 0s 20ms/step\n",
            "1/1 [==============================] - 0s 21ms/step\n",
            "1/1 [==============================] - 0s 19ms/step\n",
            "1/1 [==============================] - 0s 18ms/step\n",
            "1/1 [==============================] - 0s 19ms/step\n",
            "1/1 [==============================] - 0s 18ms/step\n",
            "1/1 [==============================] - 0s 18ms/step\n",
            "1/1 [==============================] - 0s 19ms/step\n",
            "1/1 [==============================] - 0s 20ms/step\n",
            "1/1 [==============================] - 0s 19ms/step\n",
            "1/1 [==============================] - 0s 22ms/step\n",
            "1/1 [==============================] - 0s 20ms/step\n",
            "1/1 [==============================] - 0s 19ms/step\n",
            "1/1 [==============================] - 0s 18ms/step\n",
            "1/1 [==============================] - 0s 19ms/step\n",
            "1/1 [==============================] - 0s 20ms/step\n",
            "1/1 [==============================] - 0s 19ms/step\n",
            "1/1 [==============================] - 0s 21ms/step\n",
            "1/1 [==============================] - 0s 19ms/step\n",
            "1/1 [==============================] - 0s 20ms/step\n",
            "1/1 [==============================] - 0s 20ms/step\n",
            "1/1 [==============================] - 0s 19ms/step\n",
            "1/1 [==============================] - 0s 19ms/step\n",
            "1/1 [==============================] - 0s 19ms/step\n",
            "1/1 [==============================] - 0s 20ms/step\n",
            "1/1 [==============================] - 0s 18ms/step\n",
            "1/1 [==============================] - 0s 19ms/step\n",
            "1/1 [==============================] - 0s 19ms/step\n",
            "1/1 [==============================] - 0s 19ms/step\n",
            "1/1 [==============================] - 0s 20ms/step\n",
            "1/1 [==============================] - 0s 19ms/step\n",
            "1/1 [==============================] - 0s 19ms/step\n",
            "1/1 [==============================] - 0s 20ms/step\n",
            "1/1 [==============================] - 0s 20ms/step\n",
            "1/1 [==============================] - 0s 19ms/step\n",
            "1/1 [==============================] - 0s 18ms/step\n",
            "1/1 [==============================] - 0s 20ms/step\n",
            "1/1 [==============================] - 0s 19ms/step\n",
            "1/1 [==============================] - 0s 20ms/step\n",
            "1/1 [==============================] - 0s 26ms/step\n",
            "1/1 [==============================] - 0s 19ms/step\n",
            "1/1 [==============================] - 0s 21ms/step\n",
            "1/1 [==============================] - 0s 18ms/step\n",
            "1/1 [==============================] - 0s 19ms/step\n",
            "1/1 [==============================] - 0s 18ms/step\n",
            "1/1 [==============================] - 0s 19ms/step\n",
            "1/1 [==============================] - 0s 19ms/step\n",
            "1/1 [==============================] - 0s 19ms/step\n",
            "1/1 [==============================] - 0s 20ms/step\n",
            "1/1 [==============================] - 0s 22ms/step\n",
            "1/1 [==============================] - 0s 21ms/step\n",
            "1/1 [==============================] - 0s 20ms/step\n",
            "1/1 [==============================] - 0s 20ms/step\n",
            "1/1 [==============================] - 0s 20ms/step\n",
            "1/1 [==============================] - 0s 20ms/step\n",
            "1/1 [==============================] - 0s 20ms/step\n",
            "1/1 [==============================] - 0s 20ms/step\n",
            "1/1 [==============================] - 0s 20ms/step\n"
          ]
        },
        {
          "output_type": "stream",
          "name": "stderr",
          "text": [
            "WARNING:imageio:Lossy conversion from float64 to uint8. Range [0.00011796600389857304, 253.99341881275177]. Convert image to uint8 prior to saving to suppress this warning.\n",
            "WARNING:imageio:Lossy conversion from float64 to uint8. Range [0.0, 255.0]. Convert image to uint8 prior to saving to suppress this warning.\n"
          ]
        },
        {
          "output_type": "stream",
          "name": "stdout",
          "text": [
            "1/1 [==============================] - 0s 20ms/step\n",
            "1/1 [==============================] - 0s 20ms/step\n",
            "1/1 [==============================] - 0s 20ms/step\n",
            "1/1 [==============================] - 0s 20ms/step\n",
            "1/1 [==============================] - 0s 19ms/step\n",
            "1/1 [==============================] - 0s 20ms/step\n",
            "1/1 [==============================] - 0s 20ms/step\n",
            "1/1 [==============================] - 0s 20ms/step\n",
            "1/1 [==============================] - 0s 25ms/step\n",
            "1/1 [==============================] - 0s 20ms/step\n",
            "1/1 [==============================] - 0s 19ms/step\n",
            "1/1 [==============================] - 0s 23ms/step\n",
            "1/1 [==============================] - 0s 20ms/step\n",
            "1/1 [==============================] - 0s 20ms/step\n",
            "1/1 [==============================] - 0s 19ms/step\n",
            "1/1 [==============================] - 0s 19ms/step\n",
            "1/1 [==============================] - 0s 20ms/step\n",
            "1/1 [==============================] - 0s 22ms/step\n",
            "1/1 [==============================] - 0s 20ms/step\n",
            "1/1 [==============================] - 0s 20ms/step\n",
            "1/1 [==============================] - 0s 20ms/step\n",
            "1/1 [==============================] - 0s 20ms/step\n",
            "1/1 [==============================] - 0s 19ms/step\n",
            "1/1 [==============================] - 0s 19ms/step\n",
            "1/1 [==============================] - 0s 22ms/step\n",
            "1/1 [==============================] - 0s 21ms/step\n",
            "1/1 [==============================] - 0s 21ms/step\n",
            "1/1 [==============================] - 0s 20ms/step\n",
            "1/1 [==============================] - 0s 23ms/step\n",
            "1/1 [==============================] - 0s 20ms/step\n",
            "1/1 [==============================] - 0s 20ms/step\n",
            "1/1 [==============================] - 0s 18ms/step\n",
            "1/1 [==============================] - 0s 19ms/step\n",
            "1/1 [==============================] - 0s 19ms/step\n",
            "1/1 [==============================] - 0s 19ms/step\n",
            "1/1 [==============================] - 0s 22ms/step\n",
            "1/1 [==============================] - 0s 21ms/step\n",
            "1/1 [==============================] - 0s 23ms/step\n",
            "1/1 [==============================] - 0s 19ms/step\n",
            "1/1 [==============================] - 0s 21ms/step\n",
            "1/1 [==============================] - 0s 21ms/step\n",
            "1/1 [==============================] - 0s 20ms/step\n",
            "1/1 [==============================] - 0s 20ms/step\n",
            "1/1 [==============================] - 0s 20ms/step\n",
            "1/1 [==============================] - 0s 22ms/step\n",
            "1/1 [==============================] - 0s 21ms/step\n",
            "1/1 [==============================] - 0s 19ms/step\n",
            "1/1 [==============================] - 0s 21ms/step\n",
            "1/1 [==============================] - 0s 20ms/step\n",
            "1/1 [==============================] - 0s 19ms/step\n",
            "1/1 [==============================] - 0s 19ms/step\n",
            "1/1 [==============================] - 0s 21ms/step\n",
            "1/1 [==============================] - 0s 21ms/step\n",
            "1/1 [==============================] - 0s 22ms/step\n",
            "1/1 [==============================] - 0s 22ms/step\n",
            "1/1 [==============================] - 0s 22ms/step\n",
            "1/1 [==============================] - 0s 23ms/step\n",
            "1/1 [==============================] - 0s 22ms/step\n",
            "1/1 [==============================] - 0s 20ms/step\n",
            "1/1 [==============================] - 0s 22ms/step\n",
            "1/1 [==============================] - 0s 22ms/step\n",
            "1/1 [==============================] - 0s 21ms/step\n",
            "1/1 [==============================] - 0s 21ms/step\n",
            "1/1 [==============================] - 0s 20ms/step\n"
          ]
        },
        {
          "output_type": "stream",
          "name": "stderr",
          "text": [
            "WARNING:imageio:Lossy conversion from float64 to uint8. Range [0.0002549007371044354, 240.14738738536835]. Convert image to uint8 prior to saving to suppress this warning.\n",
            "WARNING:imageio:Lossy conversion from float64 to uint8. Range [0.0, 255.0]. Convert image to uint8 prior to saving to suppress this warning.\n"
          ]
        },
        {
          "output_type": "stream",
          "name": "stdout",
          "text": [
            "1/1 [==============================] - 0s 20ms/step\n",
            "1/1 [==============================] - 0s 19ms/step\n",
            "1/1 [==============================] - 0s 20ms/step\n",
            "1/1 [==============================] - 0s 22ms/step\n",
            "1/1 [==============================] - 0s 20ms/step\n",
            "1/1 [==============================] - 0s 22ms/step\n",
            "1/1 [==============================] - 0s 21ms/step\n",
            "1/1 [==============================] - 0s 22ms/step\n",
            "1/1 [==============================] - 0s 23ms/step\n",
            "1/1 [==============================] - 0s 22ms/step\n",
            "1/1 [==============================] - 0s 22ms/step\n",
            "1/1 [==============================] - 0s 21ms/step\n",
            "1/1 [==============================] - 0s 22ms/step\n",
            "1/1 [==============================] - 0s 19ms/step\n",
            "1/1 [==============================] - 0s 26ms/step\n",
            "1/1 [==============================] - 0s 22ms/step\n",
            "1/1 [==============================] - 0s 21ms/step\n",
            "1/1 [==============================] - 0s 21ms/step\n",
            "1/1 [==============================] - 0s 21ms/step\n",
            "1/1 [==============================] - 0s 21ms/step\n",
            "1/1 [==============================] - 0s 20ms/step\n",
            "1/1 [==============================] - 0s 21ms/step\n",
            "1/1 [==============================] - 0s 20ms/step\n",
            "1/1 [==============================] - 0s 22ms/step\n",
            "1/1 [==============================] - 0s 23ms/step\n",
            "1/1 [==============================] - 0s 22ms/step\n",
            "1/1 [==============================] - 0s 20ms/step\n",
            "1/1 [==============================] - 0s 23ms/step\n",
            "1/1 [==============================] - 0s 21ms/step\n",
            "1/1 [==============================] - 0s 20ms/step\n",
            "1/1 [==============================] - 0s 22ms/step\n",
            "1/1 [==============================] - 0s 19ms/step\n",
            "1/1 [==============================] - 0s 20ms/step\n",
            "1/1 [==============================] - 0s 20ms/step\n",
            "1/1 [==============================] - 0s 20ms/step\n",
            "1/1 [==============================] - 0s 20ms/step\n",
            "1/1 [==============================] - 0s 21ms/step\n",
            "1/1 [==============================] - 0s 21ms/step\n",
            "1/1 [==============================] - 0s 19ms/step\n",
            "1/1 [==============================] - 0s 19ms/step\n",
            "1/1 [==============================] - 0s 21ms/step\n",
            "1/1 [==============================] - 0s 20ms/step\n",
            "1/1 [==============================] - 0s 20ms/step\n",
            "1/1 [==============================] - 0s 21ms/step\n",
            "1/1 [==============================] - 0s 19ms/step\n",
            "1/1 [==============================] - 0s 23ms/step\n",
            "1/1 [==============================] - 0s 20ms/step\n",
            "1/1 [==============================] - 0s 19ms/step\n",
            "1/1 [==============================] - 0s 20ms/step\n",
            "1/1 [==============================] - 0s 19ms/step\n",
            "1/1 [==============================] - 0s 20ms/step\n",
            "1/1 [==============================] - 0s 23ms/step\n",
            "1/1 [==============================] - 0s 24ms/step\n",
            "1/1 [==============================] - 0s 23ms/step\n",
            "1/1 [==============================] - 0s 25ms/step\n",
            "1/1 [==============================] - 0s 24ms/step\n",
            "1/1 [==============================] - 0s 23ms/step\n",
            "1/1 [==============================] - 0s 23ms/step\n",
            "1/1 [==============================] - 0s 23ms/step\n",
            "1/1 [==============================] - 0s 23ms/step\n",
            "1/1 [==============================] - 0s 24ms/step\n",
            "1/1 [==============================] - 0s 25ms/step\n",
            "1/1 [==============================] - 0s 23ms/step\n",
            "1/1 [==============================] - 0s 24ms/step\n"
          ]
        },
        {
          "output_type": "stream",
          "name": "stderr",
          "text": [
            "WARNING:imageio:Lossy conversion from float64 to uint8. Range [1.546407981667386e-06, 250.6867602467537]. Convert image to uint8 prior to saving to suppress this warning.\n",
            "WARNING:imageio:Lossy conversion from float64 to uint8. Range [0.0, 255.0]. Convert image to uint8 prior to saving to suppress this warning.\n"
          ]
        },
        {
          "output_type": "stream",
          "name": "stdout",
          "text": [
            "1/1 [==============================] - 0s 24ms/step\n",
            "1/1 [==============================] - 0s 24ms/step\n",
            "1/1 [==============================] - 0s 24ms/step\n",
            "1/1 [==============================] - 0s 24ms/step\n",
            "1/1 [==============================] - 0s 23ms/step\n",
            "1/1 [==============================] - 0s 23ms/step\n",
            "1/1 [==============================] - 0s 23ms/step\n",
            "1/1 [==============================] - 0s 23ms/step\n",
            "1/1 [==============================] - 0s 29ms/step\n",
            "1/1 [==============================] - 0s 23ms/step\n",
            "1/1 [==============================] - 0s 24ms/step\n",
            "1/1 [==============================] - 0s 23ms/step\n",
            "1/1 [==============================] - 0s 23ms/step\n",
            "1/1 [==============================] - 0s 24ms/step\n",
            "1/1 [==============================] - 0s 27ms/step\n",
            "1/1 [==============================] - 0s 22ms/step\n",
            "1/1 [==============================] - 0s 23ms/step\n",
            "1/1 [==============================] - 0s 23ms/step\n",
            "1/1 [==============================] - 0s 22ms/step\n",
            "1/1 [==============================] - 0s 24ms/step\n",
            "1/1 [==============================] - 0s 23ms/step\n",
            "1/1 [==============================] - 0s 22ms/step\n",
            "1/1 [==============================] - 0s 23ms/step\n",
            "1/1 [==============================] - 0s 22ms/step\n",
            "1/1 [==============================] - 0s 23ms/step\n",
            "1/1 [==============================] - 0s 23ms/step\n",
            "1/1 [==============================] - 0s 23ms/step\n",
            "1/1 [==============================] - 0s 24ms/step\n",
            "1/1 [==============================] - 0s 21ms/step\n",
            "1/1 [==============================] - 0s 22ms/step\n",
            "1/1 [==============================] - 0s 21ms/step\n",
            "1/1 [==============================] - 0s 22ms/step\n",
            "1/1 [==============================] - 0s 23ms/step\n",
            "1/1 [==============================] - 0s 22ms/step\n",
            "1/1 [==============================] - 0s 23ms/step\n",
            "1/1 [==============================] - 0s 21ms/step\n",
            "1/1 [==============================] - 0s 20ms/step\n",
            "1/1 [==============================] - 0s 21ms/step\n",
            "1/1 [==============================] - 0s 20ms/step\n",
            "1/1 [==============================] - 0s 21ms/step\n",
            "1/1 [==============================] - 0s 22ms/step\n",
            "1/1 [==============================] - 0s 24ms/step\n",
            "1/1 [==============================] - 0s 20ms/step\n",
            "1/1 [==============================] - 0s 21ms/step\n",
            "1/1 [==============================] - 0s 21ms/step\n",
            "1/1 [==============================] - 0s 20ms/step\n",
            "1/1 [==============================] - 0s 24ms/step\n",
            "1/1 [==============================] - 0s 20ms/step\n",
            "1/1 [==============================] - 0s 22ms/step\n",
            "1/1 [==============================] - 0s 21ms/step\n",
            "1/1 [==============================] - 0s 20ms/step\n",
            "1/1 [==============================] - 0s 20ms/step\n",
            "1/1 [==============================] - 0s 20ms/step\n",
            "1/1 [==============================] - 0s 20ms/step\n",
            "1/1 [==============================] - 0s 19ms/step\n",
            "1/1 [==============================] - 0s 20ms/step\n",
            "1/1 [==============================] - 0s 20ms/step\n",
            "1/1 [==============================] - 0s 20ms/step\n",
            "1/1 [==============================] - 0s 20ms/step\n",
            "1/1 [==============================] - 0s 20ms/step\n",
            "1/1 [==============================] - 0s 19ms/step\n",
            "1/1 [==============================] - 0s 21ms/step\n",
            "1/1 [==============================] - 0s 21ms/step\n",
            "1/1 [==============================] - 0s 19ms/step\n"
          ]
        },
        {
          "output_type": "stream",
          "name": "stderr",
          "text": [
            "WARNING:imageio:Lossy conversion from float64 to uint8. Range [0.00026358899617662246, 249.1764172911644]. Convert image to uint8 prior to saving to suppress this warning.\n",
            "WARNING:imageio:Lossy conversion from float64 to uint8. Range [0.0, 255.0]. Convert image to uint8 prior to saving to suppress this warning.\n"
          ]
        },
        {
          "output_type": "stream",
          "name": "stdout",
          "text": [
            "1/1 [==============================] - 0s 20ms/step\n",
            "1/1 [==============================] - 0s 19ms/step\n",
            "1/1 [==============================] - 0s 18ms/step\n",
            "1/1 [==============================] - 0s 21ms/step\n",
            "1/1 [==============================] - 0s 19ms/step\n",
            "1/1 [==============================] - 0s 20ms/step\n",
            "1/1 [==============================] - 0s 19ms/step\n",
            "1/1 [==============================] - 0s 18ms/step\n",
            "1/1 [==============================] - 0s 20ms/step\n",
            "1/1 [==============================] - 0s 19ms/step\n",
            "1/1 [==============================] - 0s 18ms/step\n",
            "1/1 [==============================] - 0s 18ms/step\n",
            "1/1 [==============================] - 0s 21ms/step\n",
            "1/1 [==============================] - 0s 20ms/step\n",
            "1/1 [==============================] - 0s 20ms/step\n",
            "1/1 [==============================] - 0s 21ms/step\n",
            "1/1 [==============================] - 0s 19ms/step\n",
            "1/1 [==============================] - 0s 26ms/step\n",
            "1/1 [==============================] - 0s 19ms/step\n",
            "1/1 [==============================] - 0s 19ms/step\n",
            "1/1 [==============================] - 0s 22ms/step\n",
            "1/1 [==============================] - 0s 22ms/step\n",
            "1/1 [==============================] - 0s 20ms/step\n",
            "1/1 [==============================] - 0s 19ms/step\n",
            "1/1 [==============================] - 0s 20ms/step\n",
            "1/1 [==============================] - 0s 22ms/step\n",
            "1/1 [==============================] - 0s 20ms/step\n",
            "1/1 [==============================] - 0s 20ms/step\n",
            "1/1 [==============================] - 0s 21ms/step\n",
            "1/1 [==============================] - 0s 22ms/step\n",
            "1/1 [==============================] - 0s 23ms/step\n",
            "1/1 [==============================] - 0s 20ms/step\n",
            "1/1 [==============================] - 0s 21ms/step\n",
            "1/1 [==============================] - 0s 24ms/step\n",
            "1/1 [==============================] - 0s 20ms/step\n",
            "1/1 [==============================] - 0s 19ms/step\n",
            "1/1 [==============================] - 0s 23ms/step\n",
            "1/1 [==============================] - 0s 19ms/step\n",
            "1/1 [==============================] - 0s 24ms/step\n",
            "1/1 [==============================] - 0s 25ms/step\n",
            "1/1 [==============================] - 0s 20ms/step\n",
            "1/1 [==============================] - 0s 22ms/step\n",
            "1/1 [==============================] - 0s 19ms/step\n",
            "1/1 [==============================] - 0s 19ms/step\n",
            "1/1 [==============================] - 0s 19ms/step\n",
            "1/1 [==============================] - 0s 19ms/step\n",
            "1/1 [==============================] - 0s 20ms/step\n",
            "1/1 [==============================] - 0s 25ms/step\n",
            "1/1 [==============================] - 0s 20ms/step\n",
            "1/1 [==============================] - 0s 20ms/step\n",
            "1/1 [==============================] - 0s 19ms/step\n",
            "1/1 [==============================] - 0s 20ms/step\n",
            "1/1 [==============================] - 0s 19ms/step\n",
            "1/1 [==============================] - 0s 20ms/step\n",
            "1/1 [==============================] - 0s 20ms/step\n",
            "1/1 [==============================] - 0s 19ms/step\n",
            "1/1 [==============================] - 0s 20ms/step\n",
            "1/1 [==============================] - 0s 20ms/step\n",
            "1/1 [==============================] - 0s 19ms/step\n",
            "1/1 [==============================] - 0s 19ms/step\n",
            "1/1 [==============================] - 0s 19ms/step\n",
            "1/1 [==============================] - 0s 21ms/step\n",
            "1/1 [==============================] - 0s 20ms/step\n",
            "1/1 [==============================] - 0s 20ms/step\n"
          ]
        },
        {
          "output_type": "stream",
          "name": "stderr",
          "text": [
            "WARNING:imageio:Lossy conversion from float64 to uint8. Range [0.00019029837631023838, 242.46422946453094]. Convert image to uint8 prior to saving to suppress this warning.\n",
            "WARNING:imageio:Lossy conversion from float64 to uint8. Range [0.0, 255.0]. Convert image to uint8 prior to saving to suppress this warning.\n"
          ]
        },
        {
          "output_type": "stream",
          "name": "stdout",
          "text": [
            "1/1 [==============================] - 0s 21ms/step\n",
            "1/1 [==============================] - 0s 21ms/step\n",
            "1/1 [==============================] - 0s 19ms/step\n",
            "1/1 [==============================] - 0s 22ms/step\n",
            "1/1 [==============================] - 0s 19ms/step\n",
            "1/1 [==============================] - 0s 19ms/step\n",
            "1/1 [==============================] - 0s 19ms/step\n",
            "1/1 [==============================] - 0s 20ms/step\n",
            "1/1 [==============================] - 0s 21ms/step\n",
            "1/1 [==============================] - 0s 21ms/step\n",
            "1/1 [==============================] - 0s 20ms/step\n",
            "1/1 [==============================] - 0s 20ms/step\n",
            "1/1 [==============================] - 0s 20ms/step\n",
            "1/1 [==============================] - 0s 20ms/step\n",
            "1/1 [==============================] - 0s 20ms/step\n",
            "1/1 [==============================] - 0s 22ms/step\n",
            "1/1 [==============================] - 0s 19ms/step\n",
            "1/1 [==============================] - 0s 18ms/step\n",
            "1/1 [==============================] - 0s 24ms/step\n",
            "1/1 [==============================] - 0s 19ms/step\n",
            "1/1 [==============================] - 0s 19ms/step\n",
            "1/1 [==============================] - 0s 19ms/step\n",
            "1/1 [==============================] - 0s 19ms/step\n",
            "1/1 [==============================] - 0s 20ms/step\n",
            "1/1 [==============================] - 0s 19ms/step\n",
            "1/1 [==============================] - 0s 20ms/step\n",
            "1/1 [==============================] - 0s 18ms/step\n",
            "1/1 [==============================] - 0s 19ms/step\n",
            "1/1 [==============================] - 0s 21ms/step\n",
            "1/1 [==============================] - 0s 22ms/step\n",
            "1/1 [==============================] - 0s 20ms/step\n",
            "1/1 [==============================] - 0s 20ms/step\n",
            "1/1 [==============================] - 0s 20ms/step\n",
            "1/1 [==============================] - 0s 20ms/step\n",
            "1/1 [==============================] - 0s 19ms/step\n",
            "1/1 [==============================] - 0s 19ms/step\n",
            "1/1 [==============================] - 0s 20ms/step\n",
            "1/1 [==============================] - 0s 21ms/step\n",
            "1/1 [==============================] - 0s 20ms/step\n",
            "1/1 [==============================] - 0s 19ms/step\n",
            "1/1 [==============================] - 0s 22ms/step\n",
            "1/1 [==============================] - 0s 19ms/step\n",
            "1/1 [==============================] - 0s 18ms/step\n",
            "1/1 [==============================] - 0s 19ms/step\n",
            "1/1 [==============================] - 0s 19ms/step\n",
            "1/1 [==============================] - 0s 19ms/step\n",
            "1/1 [==============================] - 0s 19ms/step\n",
            "1/1 [==============================] - 0s 20ms/step\n",
            "1/1 [==============================] - 0s 22ms/step\n",
            "1/1 [==============================] - 0s 21ms/step\n",
            "1/1 [==============================] - 0s 19ms/step\n",
            "1/1 [==============================] - 0s 19ms/step\n",
            "1/1 [==============================] - 0s 19ms/step\n",
            "1/1 [==============================] - 0s 18ms/step\n",
            "1/1 [==============================] - 0s 18ms/step\n",
            "1/1 [==============================] - 0s 19ms/step\n",
            "1/1 [==============================] - 0s 19ms/step\n",
            "1/1 [==============================] - 0s 19ms/step\n",
            "1/1 [==============================] - 0s 20ms/step\n",
            "1/1 [==============================] - 0s 19ms/step\n",
            "1/1 [==============================] - 0s 19ms/step\n",
            "1/1 [==============================] - 0s 18ms/step\n",
            "1/1 [==============================] - 0s 18ms/step\n",
            "1/1 [==============================] - 0s 18ms/step\n"
          ]
        },
        {
          "output_type": "stream",
          "name": "stderr",
          "text": [
            "WARNING:imageio:Lossy conversion from float64 to uint8. Range [0.00010747249959308647, 237.17375814914703]. Convert image to uint8 prior to saving to suppress this warning.\n",
            "WARNING:imageio:Lossy conversion from float64 to uint8. Range [0.0, 255.0]. Convert image to uint8 prior to saving to suppress this warning.\n"
          ]
        },
        {
          "output_type": "stream",
          "name": "stdout",
          "text": [
            "1/1 [==============================] - 0s 20ms/step\n",
            "1/1 [==============================] - 0s 19ms/step\n",
            "1/1 [==============================] - 0s 18ms/step\n",
            "1/1 [==============================] - 0s 19ms/step\n",
            "1/1 [==============================] - 0s 19ms/step\n",
            "1/1 [==============================] - 0s 18ms/step\n",
            "1/1 [==============================] - 0s 19ms/step\n",
            "1/1 [==============================] - 0s 18ms/step\n",
            "1/1 [==============================] - 0s 19ms/step\n",
            "1/1 [==============================] - 0s 19ms/step\n",
            "1/1 [==============================] - 0s 21ms/step\n",
            "1/1 [==============================] - 0s 19ms/step\n",
            "1/1 [==============================] - 0s 20ms/step\n",
            "1/1 [==============================] - 0s 19ms/step\n",
            "1/1 [==============================] - 0s 18ms/step\n",
            "1/1 [==============================] - 0s 19ms/step\n",
            "1/1 [==============================] - 0s 22ms/step\n",
            "1/1 [==============================] - 0s 19ms/step\n",
            "1/1 [==============================] - 0s 19ms/step\n",
            "1/1 [==============================] - 0s 20ms/step\n",
            "1/1 [==============================] - 0s 19ms/step\n",
            "1/1 [==============================] - 0s 18ms/step\n",
            "1/1 [==============================] - 0s 19ms/step\n",
            "1/1 [==============================] - 0s 19ms/step\n",
            "1/1 [==============================] - 0s 20ms/step\n",
            "1/1 [==============================] - 0s 18ms/step\n",
            "1/1 [==============================] - 0s 21ms/step\n",
            "1/1 [==============================] - 0s 18ms/step\n",
            "1/1 [==============================] - 0s 20ms/step\n",
            "1/1 [==============================] - 0s 19ms/step\n",
            "1/1 [==============================] - 0s 19ms/step\n",
            "1/1 [==============================] - 0s 18ms/step\n",
            "1/1 [==============================] - 0s 18ms/step\n",
            "1/1 [==============================] - 0s 19ms/step\n",
            "1/1 [==============================] - 0s 19ms/step\n",
            "1/1 [==============================] - 0s 22ms/step\n",
            "1/1 [==============================] - 0s 21ms/step\n",
            "1/1 [==============================] - 0s 19ms/step\n",
            "1/1 [==============================] - 0s 20ms/step\n",
            "1/1 [==============================] - 0s 19ms/step\n",
            "1/1 [==============================] - 0s 20ms/step\n",
            "1/1 [==============================] - 0s 18ms/step\n",
            "1/1 [==============================] - 0s 19ms/step\n",
            "1/1 [==============================] - 0s 18ms/step\n",
            "1/1 [==============================] - 0s 19ms/step\n",
            "1/1 [==============================] - 0s 21ms/step\n",
            "1/1 [==============================] - 0s 19ms/step\n",
            "1/1 [==============================] - 0s 18ms/step\n",
            "1/1 [==============================] - 0s 19ms/step\n",
            "1/1 [==============================] - 0s 18ms/step\n",
            "1/1 [==============================] - 0s 19ms/step\n",
            "1/1 [==============================] - 0s 19ms/step\n",
            "1/1 [==============================] - 0s 21ms/step\n",
            "1/1 [==============================] - 0s 20ms/step\n",
            "1/1 [==============================] - 0s 20ms/step\n",
            "1/1 [==============================] - 0s 23ms/step\n",
            "1/1 [==============================] - 0s 19ms/step\n",
            "1/1 [==============================] - 0s 20ms/step\n",
            "1/1 [==============================] - 0s 19ms/step\n",
            "1/1 [==============================] - 0s 19ms/step\n",
            "1/1 [==============================] - 0s 19ms/step\n",
            "1/1 [==============================] - 0s 19ms/step\n",
            "1/1 [==============================] - 0s 20ms/step\n",
            "1/1 [==============================] - 0s 20ms/step\n"
          ]
        },
        {
          "output_type": "stream",
          "name": "stderr",
          "text": [
            "WARNING:imageio:Lossy conversion from float64 to uint8. Range [0.00046779319063716684, 240.51765471696854]. Convert image to uint8 prior to saving to suppress this warning.\n"
          ]
        }
      ],
      "source": [
        "if not os.path.exists('samples'):\n",
        "    os.mkdir('samples')\n",
        "\n",
        "for i in range(10):\n",
        "    cluster_sample(u'samples/聚类类别_%s.png' % i, i)\n",
        "    random_sample(u'samples/类别采样_%s.png' % i, i)"
      ]
    },
    {
      "cell_type": "code",
      "execution_count": null,
      "metadata": {
        "colab": {
          "base_uri": "https://localhost:8080/"
        },
        "id": "yZljLFz3EA46",
        "outputId": "b74ab930-ad9c-4fe3-ac05-470c3ba9d150"
      },
      "outputs": [
        {
          "output_type": "stream",
          "name": "stdout",
          "text": [
            "train acc: 0.5750833333333333\n",
            "test acc: 0.5762\n"
          ]
        }
      ],
      "source": [
        "right = 0.\n",
        "for i in range(10):\n",
        "    _ = np.bincount(y_train[y_train_pred == i])\n",
        "    right += _.max()\n",
        "\n",
        "print (f'train acc: {right / len(y_train)}')\n",
        "\n",
        "\n",
        "right = 0.\n",
        "for i in range(10):\n",
        "    _ = np.bincount(y_test[y_test_pred == i])\n",
        "    right += _.max()\n",
        "\n",
        "print (f'test acc: {right / len(y_test)}')"
      ]
    },
    {
      "cell_type": "code",
      "execution_count": null,
      "metadata": {
        "colab": {
          "base_uri": "https://localhost:8080/"
        },
        "id": "V5MR54BBSIsu",
        "outputId": "de187a38-13cb-4bfb-b623-648538218863"
      },
      "outputs": [
        {
          "output_type": "stream",
          "name": "stdout",
          "text": [
            "ARI for Training Set: 0.3977350667487504\n",
            "ARI for Test Set: 0.396625312345602\n",
            "Mutual Information for Training Set: 1.2180682935500013\n",
            "Mutual Information for Test Set: 1.214110787650136\n",
            "Fowlkes-Mallows Index for Training Set: 0.4585121141747862\n",
            "Fowlkes-Mallows Index for Test Set: 0.4574762261024934\n"
          ]
        }
      ],
      "source": [
        "from sklearn.metrics import adjusted_rand_score, mutual_info_score\n",
        "from sklearn.metrics import fowlkes_mallows_score\n",
        "# Calculate ARI\n",
        "ari_train = adjusted_rand_score(y_train, y_train_pred)\n",
        "ari_test = adjusted_rand_score(y_test, y_test_pred)\n",
        "# Calculate Mutual Information\n",
        "mi_train = mutual_info_score(y_train, y_train_pred)\n",
        "mi_test = mutual_info_score(y_test, y_test_pred)\n",
        "# Fowlkes-Mallows Index (FMI)\n",
        "score_train = fowlkes_mallows_score(y_train, y_train_pred)\n",
        "score_test = fowlkes_mallows_score(y_test, y_test_pred)\n",
        "\n",
        "print(\"ARI for Training Set:\", ari_train)\n",
        "print(\"ARI for Test Set:\", ari_test)\n",
        "print(\"Mutual Information for Training Set:\", mi_train)\n",
        "print(\"Mutual Information for Test Set:\", mi_test)\n",
        "print(\"Fowlkes-Mallows Index for Training Set:\", score_train)\n",
        "print(\"Fowlkes-Mallows Index for Test Set:\", score_test)"
      ]
    },
    {
      "cell_type": "code",
      "execution_count": null,
      "metadata": {
        "colab": {
          "base_uri": "https://localhost:8080/",
          "height": 445
        },
        "id": "uxNvNMtQO3Td",
        "outputId": "bdb847c3-7522-4e26-f67d-4f6b84677c95"
      },
      "outputs": [
        {
          "output_type": "display_data",
          "data": {
            "text/plain": [
              "<Figure size 600x500 with 1 Axes>"
            ],
            "image/png": "[encoded data removed]"
          },
          "metadata": {}
        }
      ],
      "source": [
        "import matplotlib.pyplot as plt\n",
        "from sklearn.manifold import TSNE\n",
        "tsne = TSNE(n_components=2, random_state=0)\n",
        "x_test_2d = tsne.fit_transform(x_test_encoded)\n",
        "\n",
        "plt.figure(figsize=(6, 5))\n",
        "colors = \"red\", \"green\", \"blue\", \"cyan\", \"yellow\", \"magenta\", \"black\", \"orange\", \"purple\", \"pink\"\n",
        "for i, c, label in zip(range(num_classes), colors, range(num_classes)):\n",
        "    plt.scatter(x_test_2d[y_test_pred == i, 0], x_test_2d[y_test_pred == i, 1], c=c, label=label)\n",
        "plt.legend()\n",
        "plt.show()"
      ]
    }
  ],
  "metadata": {
    "accelerator": "GPU",
    "colab": {
      "machine_shape": "hm",
      "provenance": []
    },
    "kernelspec": {
      "display_name": "Python 3",
      "name": "python3"
    },
    "language_info": {
      "codemirror_mode": {
        "name": "ipython",
        "version": 3
      },
      "file_extension": ".py",
      "mimetype": "text/x-python",
      "name": "python",
      "nbconvert_exporter": "python",
      "pygments_lexer": "ipython3",
      "version": "3.9.0"
    }
  },
  "nbformat": 4,
  "nbformat_minor": 0
}